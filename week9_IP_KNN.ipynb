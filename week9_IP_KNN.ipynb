{
  "nbformat": 4,
  "nbformat_minor": 0,
  "metadata": {
    "colab": {
      "name": "week9-IP-KNN.ipynb",
      "provenance": [],
      "authorship_tag": "ABX9TyPYYKMDmmEMrVakV82LH7J7",
      "include_colab_link": true
    },
    "kernelspec": {
      "name": "python3",
      "display_name": "Python 3"
    },
    "language_info": {
      "name": "python"
    }
  },
  "cells": [
    {
      "cell_type": "markdown",
      "metadata": {
        "id": "view-in-github",
        "colab_type": "text"
      },
      "source": [
        "<a href=\"https://colab.research.google.com/github/Panchol211/Week9_IP_KNN_NB/blob/main/week9_IP_KNN.ipynb\" target=\"_parent\"><img src=\"https://colab.research.google.com/assets/colab-badge.svg\" alt=\"Open In Colab\"/></a>"
      ]
    },
    {
      "cell_type": "markdown",
      "metadata": {
        "id": "EpU3KIebai9B"
      },
      "source": [
        "# Research Question\n",
        "\n",
        "This analysis aims to develop a prediction model to determine whether or not a passenger would survive or would not survive the accident"
      ]
    },
    {
      "cell_type": "markdown",
      "metadata": {
        "id": "Wrml3xCtZFMC"
      },
      "source": [
        "# Metric of Success\n",
        "\n",
        "*   Randomly partition each dataset into two parts i.e 80 - 20 sets.\n",
        "*   For dataset 1, we will use the train set to create train and test data (i.e. splitting further), then perform K-nearest neighbor classification.\n",
        "*   For dataset 2, perform classification of the testing set samples using the Naive Bayes Classifier.\n",
        "*   Compute the accuracy (percentage of correct classification).\n",
        "Report the confusion matrix of each classifier.\n",
        "Repeat step 2 to step 4 twice, each time splitting the datasets differently i.e. 70-30, 60-40, then note the outcomes of the modeling.\n",
        "\n",
        "\n",
        "\n",
        "NB/ The project will be considered a success when we are able to develop a reliable prediction model that has a high accuracy level. We shall make sure the model doesn't suffer from any instances of overfitting or underfitting\n",
        "\n",
        "\n",
        "\n",
        "\n"
      ]
    },
    {
      "cell_type": "markdown",
      "metadata": {
        "id": "Y0169BR_bLaV"
      },
      "source": [
        "# Understanding the Context\n",
        "\n",
        "This analysis aims to use given data to come up with a model that can predict whether a passenger survived or not. Some of the features that will be trained in this model include the gender and age of the passenger and the cabin where they were located. The analysis uses a K-Nearest Neighbors Classifier to build the prediction model"
      ]
    },
    {
      "cell_type": "markdown",
      "metadata": {
        "id": "USSDYLI402ow"
      },
      "source": [
        "# Recording the Experimental Design\n",
        "\n",
        "The following are the steps that will be used in this analysis in order to respond to the research question amicably\n",
        "\n",
        "Load data and preview preliminary characteristics\n",
        "\n",
        "Data Cleaning\n",
        "\n",
        "EDA\n",
        "\n",
        "Implementing the Solution\n",
        "\n",
        "Finding and recomendations\n"
      ]
    },
    {
      "cell_type": "code",
      "metadata": {
        "id": "AWsbsAMUw0ju"
      },
      "source": [
        "import pandas as pd\n",
        "import numpy as np\n",
        "import matplotlib.pyplot as plt\n",
        "import seaborn as sns\n",
        "\n",
        "from sklearn.model_selection import train_test_split\n",
        "from sklearn import metrics\n",
        "from sklearn.metrics import  accuracy_score\n",
        "from sklearn.metrics import confusion_matrix\n",
        "from sklearn.metrics import r2_score\n",
        "from sklearn.preprocessing import StandardScaler\n",
        "from sklearn.neighbors import KNeighborsClassifier\n",
        "from sklearn.metrics import classification_report\n",
        "from sklearn.discriminant_analysis import LinearDiscriminantAnalysis as LDA\n",
        "from sklearn.metrics.pairwise import cosine_similarity\n",
        "import heapq\n",
        "from collections import Counter"
      ],
      "execution_count": 1,
      "outputs": []
    },
    {
      "cell_type": "code",
      "metadata": {
        "colab": {
          "base_uri": "https://localhost:8080/",
          "height": 455
        },
        "id": "5klaMvNCyYYS",
        "outputId": "88c36c47-cd46-4ccd-8804-968643f390fa"
      },
      "source": [
        "# Reading the data from the csv file\n",
        "\n",
        "data = pd.read_csv('train.csv',index_col='PassengerId')\n",
        "data"
      ],
      "execution_count": 2,
      "outputs": [
        {
          "output_type": "execute_result",
          "data": {
            "text/html": [
              "<div>\n",
              "<style scoped>\n",
              "    .dataframe tbody tr th:only-of-type {\n",
              "        vertical-align: middle;\n",
              "    }\n",
              "\n",
              "    .dataframe tbody tr th {\n",
              "        vertical-align: top;\n",
              "    }\n",
              "\n",
              "    .dataframe thead th {\n",
              "        text-align: right;\n",
              "    }\n",
              "</style>\n",
              "<table border=\"1\" class=\"dataframe\">\n",
              "  <thead>\n",
              "    <tr style=\"text-align: right;\">\n",
              "      <th></th>\n",
              "      <th>Survived</th>\n",
              "      <th>Pclass</th>\n",
              "      <th>Name</th>\n",
              "      <th>Sex</th>\n",
              "      <th>Age</th>\n",
              "      <th>SibSp</th>\n",
              "      <th>Parch</th>\n",
              "      <th>Ticket</th>\n",
              "      <th>Fare</th>\n",
              "      <th>Cabin</th>\n",
              "      <th>Embarked</th>\n",
              "    </tr>\n",
              "    <tr>\n",
              "      <th>PassengerId</th>\n",
              "      <th></th>\n",
              "      <th></th>\n",
              "      <th></th>\n",
              "      <th></th>\n",
              "      <th></th>\n",
              "      <th></th>\n",
              "      <th></th>\n",
              "      <th></th>\n",
              "      <th></th>\n",
              "      <th></th>\n",
              "      <th></th>\n",
              "    </tr>\n",
              "  </thead>\n",
              "  <tbody>\n",
              "    <tr>\n",
              "      <th>1</th>\n",
              "      <td>0</td>\n",
              "      <td>3</td>\n",
              "      <td>Braund, Mr. Owen Harris</td>\n",
              "      <td>male</td>\n",
              "      <td>22.0</td>\n",
              "      <td>1</td>\n",
              "      <td>0</td>\n",
              "      <td>A/5 21171</td>\n",
              "      <td>7.2500</td>\n",
              "      <td>NaN</td>\n",
              "      <td>S</td>\n",
              "    </tr>\n",
              "    <tr>\n",
              "      <th>2</th>\n",
              "      <td>1</td>\n",
              "      <td>1</td>\n",
              "      <td>Cumings, Mrs. John Bradley (Florence Briggs Th...</td>\n",
              "      <td>female</td>\n",
              "      <td>38.0</td>\n",
              "      <td>1</td>\n",
              "      <td>0</td>\n",
              "      <td>PC 17599</td>\n",
              "      <td>71.2833</td>\n",
              "      <td>C85</td>\n",
              "      <td>C</td>\n",
              "    </tr>\n",
              "    <tr>\n",
              "      <th>3</th>\n",
              "      <td>1</td>\n",
              "      <td>3</td>\n",
              "      <td>Heikkinen, Miss. Laina</td>\n",
              "      <td>female</td>\n",
              "      <td>26.0</td>\n",
              "      <td>0</td>\n",
              "      <td>0</td>\n",
              "      <td>STON/O2. 3101282</td>\n",
              "      <td>7.9250</td>\n",
              "      <td>NaN</td>\n",
              "      <td>S</td>\n",
              "    </tr>\n",
              "    <tr>\n",
              "      <th>4</th>\n",
              "      <td>1</td>\n",
              "      <td>1</td>\n",
              "      <td>Futrelle, Mrs. Jacques Heath (Lily May Peel)</td>\n",
              "      <td>female</td>\n",
              "      <td>35.0</td>\n",
              "      <td>1</td>\n",
              "      <td>0</td>\n",
              "      <td>113803</td>\n",
              "      <td>53.1000</td>\n",
              "      <td>C123</td>\n",
              "      <td>S</td>\n",
              "    </tr>\n",
              "    <tr>\n",
              "      <th>5</th>\n",
              "      <td>0</td>\n",
              "      <td>3</td>\n",
              "      <td>Allen, Mr. William Henry</td>\n",
              "      <td>male</td>\n",
              "      <td>35.0</td>\n",
              "      <td>0</td>\n",
              "      <td>0</td>\n",
              "      <td>373450</td>\n",
              "      <td>8.0500</td>\n",
              "      <td>NaN</td>\n",
              "      <td>S</td>\n",
              "    </tr>\n",
              "    <tr>\n",
              "      <th>...</th>\n",
              "      <td>...</td>\n",
              "      <td>...</td>\n",
              "      <td>...</td>\n",
              "      <td>...</td>\n",
              "      <td>...</td>\n",
              "      <td>...</td>\n",
              "      <td>...</td>\n",
              "      <td>...</td>\n",
              "      <td>...</td>\n",
              "      <td>...</td>\n",
              "      <td>...</td>\n",
              "    </tr>\n",
              "    <tr>\n",
              "      <th>887</th>\n",
              "      <td>0</td>\n",
              "      <td>2</td>\n",
              "      <td>Montvila, Rev. Juozas</td>\n",
              "      <td>male</td>\n",
              "      <td>27.0</td>\n",
              "      <td>0</td>\n",
              "      <td>0</td>\n",
              "      <td>211536</td>\n",
              "      <td>13.0000</td>\n",
              "      <td>NaN</td>\n",
              "      <td>S</td>\n",
              "    </tr>\n",
              "    <tr>\n",
              "      <th>888</th>\n",
              "      <td>1</td>\n",
              "      <td>1</td>\n",
              "      <td>Graham, Miss. Margaret Edith</td>\n",
              "      <td>female</td>\n",
              "      <td>19.0</td>\n",
              "      <td>0</td>\n",
              "      <td>0</td>\n",
              "      <td>112053</td>\n",
              "      <td>30.0000</td>\n",
              "      <td>B42</td>\n",
              "      <td>S</td>\n",
              "    </tr>\n",
              "    <tr>\n",
              "      <th>889</th>\n",
              "      <td>0</td>\n",
              "      <td>3</td>\n",
              "      <td>Johnston, Miss. Catherine Helen \"Carrie\"</td>\n",
              "      <td>female</td>\n",
              "      <td>NaN</td>\n",
              "      <td>1</td>\n",
              "      <td>2</td>\n",
              "      <td>W./C. 6607</td>\n",
              "      <td>23.4500</td>\n",
              "      <td>NaN</td>\n",
              "      <td>S</td>\n",
              "    </tr>\n",
              "    <tr>\n",
              "      <th>890</th>\n",
              "      <td>1</td>\n",
              "      <td>1</td>\n",
              "      <td>Behr, Mr. Karl Howell</td>\n",
              "      <td>male</td>\n",
              "      <td>26.0</td>\n",
              "      <td>0</td>\n",
              "      <td>0</td>\n",
              "      <td>111369</td>\n",
              "      <td>30.0000</td>\n",
              "      <td>C148</td>\n",
              "      <td>C</td>\n",
              "    </tr>\n",
              "    <tr>\n",
              "      <th>891</th>\n",
              "      <td>0</td>\n",
              "      <td>3</td>\n",
              "      <td>Dooley, Mr. Patrick</td>\n",
              "      <td>male</td>\n",
              "      <td>32.0</td>\n",
              "      <td>0</td>\n",
              "      <td>0</td>\n",
              "      <td>370376</td>\n",
              "      <td>7.7500</td>\n",
              "      <td>NaN</td>\n",
              "      <td>Q</td>\n",
              "    </tr>\n",
              "  </tbody>\n",
              "</table>\n",
              "<p>891 rows × 11 columns</p>\n",
              "</div>"
            ],
            "text/plain": [
              "             Survived  Pclass  ... Cabin Embarked\n",
              "PassengerId                    ...               \n",
              "1                   0       3  ...   NaN        S\n",
              "2                   1       1  ...   C85        C\n",
              "3                   1       3  ...   NaN        S\n",
              "4                   1       1  ...  C123        S\n",
              "5                   0       3  ...   NaN        S\n",
              "...               ...     ...  ...   ...      ...\n",
              "887                 0       2  ...   NaN        S\n",
              "888                 1       1  ...   B42        S\n",
              "889                 0       3  ...   NaN        S\n",
              "890                 1       1  ...  C148        C\n",
              "891                 0       3  ...   NaN        Q\n",
              "\n",
              "[891 rows x 11 columns]"
            ]
          },
          "metadata": {
            "tags": []
          },
          "execution_count": 2
        }
      ]
    },
    {
      "cell_type": "markdown",
      "metadata": {
        "id": "n6egTLVOy-WE"
      },
      "source": [
        "# Checking the data "
      ]
    },
    {
      "cell_type": "code",
      "metadata": {
        "colab": {
          "base_uri": "https://localhost:8080/",
          "height": 237
        },
        "id": "xrvxoL5IzDav",
        "outputId": "279c1fdf-f02d-42eb-83b0-35107b8b0384"
      },
      "source": [
        "# Checking the top 5 records\n",
        "\n",
        "data.head(5)"
      ],
      "execution_count": 3,
      "outputs": [
        {
          "output_type": "execute_result",
          "data": {
            "text/html": [
              "<div>\n",
              "<style scoped>\n",
              "    .dataframe tbody tr th:only-of-type {\n",
              "        vertical-align: middle;\n",
              "    }\n",
              "\n",
              "    .dataframe tbody tr th {\n",
              "        vertical-align: top;\n",
              "    }\n",
              "\n",
              "    .dataframe thead th {\n",
              "        text-align: right;\n",
              "    }\n",
              "</style>\n",
              "<table border=\"1\" class=\"dataframe\">\n",
              "  <thead>\n",
              "    <tr style=\"text-align: right;\">\n",
              "      <th></th>\n",
              "      <th>Survived</th>\n",
              "      <th>Pclass</th>\n",
              "      <th>Name</th>\n",
              "      <th>Sex</th>\n",
              "      <th>Age</th>\n",
              "      <th>SibSp</th>\n",
              "      <th>Parch</th>\n",
              "      <th>Ticket</th>\n",
              "      <th>Fare</th>\n",
              "      <th>Cabin</th>\n",
              "      <th>Embarked</th>\n",
              "    </tr>\n",
              "    <tr>\n",
              "      <th>PassengerId</th>\n",
              "      <th></th>\n",
              "      <th></th>\n",
              "      <th></th>\n",
              "      <th></th>\n",
              "      <th></th>\n",
              "      <th></th>\n",
              "      <th></th>\n",
              "      <th></th>\n",
              "      <th></th>\n",
              "      <th></th>\n",
              "      <th></th>\n",
              "    </tr>\n",
              "  </thead>\n",
              "  <tbody>\n",
              "    <tr>\n",
              "      <th>1</th>\n",
              "      <td>0</td>\n",
              "      <td>3</td>\n",
              "      <td>Braund, Mr. Owen Harris</td>\n",
              "      <td>male</td>\n",
              "      <td>22.0</td>\n",
              "      <td>1</td>\n",
              "      <td>0</td>\n",
              "      <td>A/5 21171</td>\n",
              "      <td>7.2500</td>\n",
              "      <td>NaN</td>\n",
              "      <td>S</td>\n",
              "    </tr>\n",
              "    <tr>\n",
              "      <th>2</th>\n",
              "      <td>1</td>\n",
              "      <td>1</td>\n",
              "      <td>Cumings, Mrs. John Bradley (Florence Briggs Th...</td>\n",
              "      <td>female</td>\n",
              "      <td>38.0</td>\n",
              "      <td>1</td>\n",
              "      <td>0</td>\n",
              "      <td>PC 17599</td>\n",
              "      <td>71.2833</td>\n",
              "      <td>C85</td>\n",
              "      <td>C</td>\n",
              "    </tr>\n",
              "    <tr>\n",
              "      <th>3</th>\n",
              "      <td>1</td>\n",
              "      <td>3</td>\n",
              "      <td>Heikkinen, Miss. Laina</td>\n",
              "      <td>female</td>\n",
              "      <td>26.0</td>\n",
              "      <td>0</td>\n",
              "      <td>0</td>\n",
              "      <td>STON/O2. 3101282</td>\n",
              "      <td>7.9250</td>\n",
              "      <td>NaN</td>\n",
              "      <td>S</td>\n",
              "    </tr>\n",
              "    <tr>\n",
              "      <th>4</th>\n",
              "      <td>1</td>\n",
              "      <td>1</td>\n",
              "      <td>Futrelle, Mrs. Jacques Heath (Lily May Peel)</td>\n",
              "      <td>female</td>\n",
              "      <td>35.0</td>\n",
              "      <td>1</td>\n",
              "      <td>0</td>\n",
              "      <td>113803</td>\n",
              "      <td>53.1000</td>\n",
              "      <td>C123</td>\n",
              "      <td>S</td>\n",
              "    </tr>\n",
              "    <tr>\n",
              "      <th>5</th>\n",
              "      <td>0</td>\n",
              "      <td>3</td>\n",
              "      <td>Allen, Mr. William Henry</td>\n",
              "      <td>male</td>\n",
              "      <td>35.0</td>\n",
              "      <td>0</td>\n",
              "      <td>0</td>\n",
              "      <td>373450</td>\n",
              "      <td>8.0500</td>\n",
              "      <td>NaN</td>\n",
              "      <td>S</td>\n",
              "    </tr>\n",
              "  </tbody>\n",
              "</table>\n",
              "</div>"
            ],
            "text/plain": [
              "             Survived  Pclass  ... Cabin Embarked\n",
              "PassengerId                    ...               \n",
              "1                   0       3  ...   NaN        S\n",
              "2                   1       1  ...   C85        C\n",
              "3                   1       3  ...   NaN        S\n",
              "4                   1       1  ...  C123        S\n",
              "5                   0       3  ...   NaN        S\n",
              "\n",
              "[5 rows x 11 columns]"
            ]
          },
          "metadata": {
            "tags": []
          },
          "execution_count": 3
        }
      ]
    },
    {
      "cell_type": "code",
      "metadata": {
        "colab": {
          "base_uri": "https://localhost:8080/",
          "height": 237
        },
        "id": "Aw_VIzyCzVMG",
        "outputId": "ef4b1fb5-3d53-4253-d61e-f08043d8a193"
      },
      "source": [
        "# Checking the last 5 records\n",
        "\n",
        "data.tail(5)"
      ],
      "execution_count": 4,
      "outputs": [
        {
          "output_type": "execute_result",
          "data": {
            "text/html": [
              "<div>\n",
              "<style scoped>\n",
              "    .dataframe tbody tr th:only-of-type {\n",
              "        vertical-align: middle;\n",
              "    }\n",
              "\n",
              "    .dataframe tbody tr th {\n",
              "        vertical-align: top;\n",
              "    }\n",
              "\n",
              "    .dataframe thead th {\n",
              "        text-align: right;\n",
              "    }\n",
              "</style>\n",
              "<table border=\"1\" class=\"dataframe\">\n",
              "  <thead>\n",
              "    <tr style=\"text-align: right;\">\n",
              "      <th></th>\n",
              "      <th>Survived</th>\n",
              "      <th>Pclass</th>\n",
              "      <th>Name</th>\n",
              "      <th>Sex</th>\n",
              "      <th>Age</th>\n",
              "      <th>SibSp</th>\n",
              "      <th>Parch</th>\n",
              "      <th>Ticket</th>\n",
              "      <th>Fare</th>\n",
              "      <th>Cabin</th>\n",
              "      <th>Embarked</th>\n",
              "    </tr>\n",
              "    <tr>\n",
              "      <th>PassengerId</th>\n",
              "      <th></th>\n",
              "      <th></th>\n",
              "      <th></th>\n",
              "      <th></th>\n",
              "      <th></th>\n",
              "      <th></th>\n",
              "      <th></th>\n",
              "      <th></th>\n",
              "      <th></th>\n",
              "      <th></th>\n",
              "      <th></th>\n",
              "    </tr>\n",
              "  </thead>\n",
              "  <tbody>\n",
              "    <tr>\n",
              "      <th>887</th>\n",
              "      <td>0</td>\n",
              "      <td>2</td>\n",
              "      <td>Montvila, Rev. Juozas</td>\n",
              "      <td>male</td>\n",
              "      <td>27.0</td>\n",
              "      <td>0</td>\n",
              "      <td>0</td>\n",
              "      <td>211536</td>\n",
              "      <td>13.00</td>\n",
              "      <td>NaN</td>\n",
              "      <td>S</td>\n",
              "    </tr>\n",
              "    <tr>\n",
              "      <th>888</th>\n",
              "      <td>1</td>\n",
              "      <td>1</td>\n",
              "      <td>Graham, Miss. Margaret Edith</td>\n",
              "      <td>female</td>\n",
              "      <td>19.0</td>\n",
              "      <td>0</td>\n",
              "      <td>0</td>\n",
              "      <td>112053</td>\n",
              "      <td>30.00</td>\n",
              "      <td>B42</td>\n",
              "      <td>S</td>\n",
              "    </tr>\n",
              "    <tr>\n",
              "      <th>889</th>\n",
              "      <td>0</td>\n",
              "      <td>3</td>\n",
              "      <td>Johnston, Miss. Catherine Helen \"Carrie\"</td>\n",
              "      <td>female</td>\n",
              "      <td>NaN</td>\n",
              "      <td>1</td>\n",
              "      <td>2</td>\n",
              "      <td>W./C. 6607</td>\n",
              "      <td>23.45</td>\n",
              "      <td>NaN</td>\n",
              "      <td>S</td>\n",
              "    </tr>\n",
              "    <tr>\n",
              "      <th>890</th>\n",
              "      <td>1</td>\n",
              "      <td>1</td>\n",
              "      <td>Behr, Mr. Karl Howell</td>\n",
              "      <td>male</td>\n",
              "      <td>26.0</td>\n",
              "      <td>0</td>\n",
              "      <td>0</td>\n",
              "      <td>111369</td>\n",
              "      <td>30.00</td>\n",
              "      <td>C148</td>\n",
              "      <td>C</td>\n",
              "    </tr>\n",
              "    <tr>\n",
              "      <th>891</th>\n",
              "      <td>0</td>\n",
              "      <td>3</td>\n",
              "      <td>Dooley, Mr. Patrick</td>\n",
              "      <td>male</td>\n",
              "      <td>32.0</td>\n",
              "      <td>0</td>\n",
              "      <td>0</td>\n",
              "      <td>370376</td>\n",
              "      <td>7.75</td>\n",
              "      <td>NaN</td>\n",
              "      <td>Q</td>\n",
              "    </tr>\n",
              "  </tbody>\n",
              "</table>\n",
              "</div>"
            ],
            "text/plain": [
              "             Survived  Pclass  ... Cabin Embarked\n",
              "PassengerId                    ...               \n",
              "887                 0       2  ...   NaN        S\n",
              "888                 1       1  ...   B42        S\n",
              "889                 0       3  ...   NaN        S\n",
              "890                 1       1  ...  C148        C\n",
              "891                 0       3  ...   NaN        Q\n",
              "\n",
              "[5 rows x 11 columns]"
            ]
          },
          "metadata": {
            "tags": []
          },
          "execution_count": 4
        }
      ]
    },
    {
      "cell_type": "code",
      "metadata": {
        "colab": {
          "base_uri": "https://localhost:8080/"
        },
        "id": "ITTiAEtUzcWc",
        "outputId": "4b25d6fd-5712-48bd-b851-22514881bbc7"
      },
      "source": [
        "# Confirming number of records and columns\n",
        "\n",
        "data.shape"
      ],
      "execution_count": 5,
      "outputs": [
        {
          "output_type": "execute_result",
          "data": {
            "text/plain": [
              "(891, 11)"
            ]
          },
          "metadata": {
            "tags": []
          },
          "execution_count": 5
        }
      ]
    },
    {
      "cell_type": "code",
      "metadata": {
        "colab": {
          "base_uri": "https://localhost:8080/"
        },
        "id": "w_HK1cg6zzsh",
        "outputId": "786cff3c-95b5-4b65-9266-740d6c717867"
      },
      "source": [
        "# Checking the attributes data type\n",
        "\n",
        "data.info()"
      ],
      "execution_count": 6,
      "outputs": [
        {
          "output_type": "stream",
          "text": [
            "<class 'pandas.core.frame.DataFrame'>\n",
            "Int64Index: 891 entries, 1 to 891\n",
            "Data columns (total 11 columns):\n",
            " #   Column    Non-Null Count  Dtype  \n",
            "---  ------    --------------  -----  \n",
            " 0   Survived  891 non-null    int64  \n",
            " 1   Pclass    891 non-null    int64  \n",
            " 2   Name      891 non-null    object \n",
            " 3   Sex       891 non-null    object \n",
            " 4   Age       714 non-null    float64\n",
            " 5   SibSp     891 non-null    int64  \n",
            " 6   Parch     891 non-null    int64  \n",
            " 7   Ticket    891 non-null    object \n",
            " 8   Fare      891 non-null    float64\n",
            " 9   Cabin     204 non-null    object \n",
            " 10  Embarked  889 non-null    object \n",
            "dtypes: float64(2), int64(4), object(5)\n",
            "memory usage: 83.5+ KB\n"
          ],
          "name": "stdout"
        }
      ]
    },
    {
      "cell_type": "code",
      "metadata": {
        "colab": {
          "base_uri": "https://localhost:8080/"
        },
        "id": "GJ2OqtUMz9Jg",
        "outputId": "a9ae2c4d-a5cf-4523-f86b-b823fa69f291"
      },
      "source": [
        "# Checking number of unique variables for each column\n",
        "\n",
        "data.nunique()"
      ],
      "execution_count": 7,
      "outputs": [
        {
          "output_type": "execute_result",
          "data": {
            "text/plain": [
              "Survived      2\n",
              "Pclass        3\n",
              "Name        891\n",
              "Sex           2\n",
              "Age          88\n",
              "SibSp         7\n",
              "Parch         7\n",
              "Ticket      681\n",
              "Fare        248\n",
              "Cabin       147\n",
              "Embarked      3\n",
              "dtype: int64"
            ]
          },
          "metadata": {
            "tags": []
          },
          "execution_count": 7
        }
      ]
    },
    {
      "cell_type": "markdown",
      "metadata": {
        "id": "CTq4-6iWcwQh"
      },
      "source": [
        "# DATA UNDERSTANDING\n",
        "\n",
        "PassengerId - is in int64 form and it is used to describe the passengers index.\n",
        "\n",
        "Survived -this is our target variable as we are trying to predict who survived.\n",
        "\n",
        "Pclass -this is used to determine the ticket class\n",
        "\n",
        "Sex - this is used to show the gender of the victims\n",
        "\n",
        "Age - this shows the age of the victims\n",
        "\n",
        "SibSp -  this shows the siblings involved in the incident\n",
        "\n",
        "Parch -  this shows of parents / children aboard the Titanic\n",
        "\n",
        "Ticket -  Ticket number\n",
        "\n",
        "Fare -Fare paid by the passengers \n",
        "\n",
        "Embarked -Port of where the people got onto the ship\n",
        "\n",
        "ACTIONS\n",
        "\n",
        "Convert object to Numeric data types.\n",
        "\n",
        "Round off age to whole numbers\n",
        "\n",
        "Delete duplicated rows\n",
        "\n",
        "Outliers : Impute age median and leave the other outliers"
      ]
    },
    {
      "cell_type": "markdown",
      "metadata": {
        "id": "ApnnoYl50Pt1"
      },
      "source": [
        "# Data Cleaning"
      ]
    },
    {
      "cell_type": "code",
      "metadata": {
        "colab": {
          "base_uri": "https://localhost:8080/"
        },
        "id": "KSlxYUVg0RaY",
        "outputId": "7ef5f75a-ed00-4bdd-b86d-f76f11f9f048"
      },
      "source": [
        "# Checking for duplicates\n",
        "\n",
        "data.duplicated().any()"
      ],
      "execution_count": 8,
      "outputs": [
        {
          "output_type": "execute_result",
          "data": {
            "text/plain": [
              "False"
            ]
          },
          "metadata": {
            "tags": []
          },
          "execution_count": 8
        }
      ]
    },
    {
      "cell_type": "markdown",
      "metadata": {
        "id": "nqmTCEeU0ZPU"
      },
      "source": [
        "\n",
        "*  No duplicate records in the dataset\n",
        "\n",
        "\n",
        "\n",
        "\n"
      ]
    },
    {
      "cell_type": "code",
      "metadata": {
        "colab": {
          "base_uri": "https://localhost:8080/"
        },
        "id": "kY08_3pt0ikz",
        "outputId": "9727770d-f263-4ac1-fa3d-4893b5b896a3"
      },
      "source": [
        "# Check for missing data\n",
        "\n",
        "data.isnull().sum()"
      ],
      "execution_count": 9,
      "outputs": [
        {
          "output_type": "execute_result",
          "data": {
            "text/plain": [
              "Survived      0\n",
              "Pclass        0\n",
              "Name          0\n",
              "Sex           0\n",
              "Age         177\n",
              "SibSp         0\n",
              "Parch         0\n",
              "Ticket        0\n",
              "Fare          0\n",
              "Cabin       687\n",
              "Embarked      2\n",
              "dtype: int64"
            ]
          },
          "metadata": {
            "tags": []
          },
          "execution_count": 9
        }
      ]
    },
    {
      "cell_type": "markdown",
      "metadata": {
        "id": "E0qmF8N_07XJ"
      },
      "source": [
        "\n",
        "\n",
        "*   77% of the cabin data is missing , therefore, we shall drop this column \n",
        "\n",
        "\n"
      ]
    },
    {
      "cell_type": "code",
      "metadata": {
        "id": "Ne1JYVAK1Rer"
      },
      "source": [
        "# Dropping the Cabin attribute since it has only 204 records available\n",
        "\n",
        "data = data.drop(columns=['Cabin'])"
      ],
      "execution_count": 10,
      "outputs": []
    },
    {
      "cell_type": "code",
      "metadata": {
        "id": "1A5kMd8l1btF"
      },
      "source": [
        "# Drop remaining null values\n",
        "\n",
        "data = data.dropna()"
      ],
      "execution_count": 11,
      "outputs": []
    },
    {
      "cell_type": "code",
      "metadata": {
        "colab": {
          "base_uri": "https://localhost:8080/",
          "height": 455
        },
        "id": "KI6gr0-YAAko",
        "outputId": "07ed9fe2-e1ce-475b-8dbc-2bfd44260766"
      },
      "source": [
        "data"
      ],
      "execution_count": 12,
      "outputs": [
        {
          "output_type": "execute_result",
          "data": {
            "text/html": [
              "<div>\n",
              "<style scoped>\n",
              "    .dataframe tbody tr th:only-of-type {\n",
              "        vertical-align: middle;\n",
              "    }\n",
              "\n",
              "    .dataframe tbody tr th {\n",
              "        vertical-align: top;\n",
              "    }\n",
              "\n",
              "    .dataframe thead th {\n",
              "        text-align: right;\n",
              "    }\n",
              "</style>\n",
              "<table border=\"1\" class=\"dataframe\">\n",
              "  <thead>\n",
              "    <tr style=\"text-align: right;\">\n",
              "      <th></th>\n",
              "      <th>Survived</th>\n",
              "      <th>Pclass</th>\n",
              "      <th>Name</th>\n",
              "      <th>Sex</th>\n",
              "      <th>Age</th>\n",
              "      <th>SibSp</th>\n",
              "      <th>Parch</th>\n",
              "      <th>Ticket</th>\n",
              "      <th>Fare</th>\n",
              "      <th>Embarked</th>\n",
              "    </tr>\n",
              "    <tr>\n",
              "      <th>PassengerId</th>\n",
              "      <th></th>\n",
              "      <th></th>\n",
              "      <th></th>\n",
              "      <th></th>\n",
              "      <th></th>\n",
              "      <th></th>\n",
              "      <th></th>\n",
              "      <th></th>\n",
              "      <th></th>\n",
              "      <th></th>\n",
              "    </tr>\n",
              "  </thead>\n",
              "  <tbody>\n",
              "    <tr>\n",
              "      <th>1</th>\n",
              "      <td>0</td>\n",
              "      <td>3</td>\n",
              "      <td>Braund, Mr. Owen Harris</td>\n",
              "      <td>male</td>\n",
              "      <td>22.0</td>\n",
              "      <td>1</td>\n",
              "      <td>0</td>\n",
              "      <td>A/5 21171</td>\n",
              "      <td>7.2500</td>\n",
              "      <td>S</td>\n",
              "    </tr>\n",
              "    <tr>\n",
              "      <th>2</th>\n",
              "      <td>1</td>\n",
              "      <td>1</td>\n",
              "      <td>Cumings, Mrs. John Bradley (Florence Briggs Th...</td>\n",
              "      <td>female</td>\n",
              "      <td>38.0</td>\n",
              "      <td>1</td>\n",
              "      <td>0</td>\n",
              "      <td>PC 17599</td>\n",
              "      <td>71.2833</td>\n",
              "      <td>C</td>\n",
              "    </tr>\n",
              "    <tr>\n",
              "      <th>3</th>\n",
              "      <td>1</td>\n",
              "      <td>3</td>\n",
              "      <td>Heikkinen, Miss. Laina</td>\n",
              "      <td>female</td>\n",
              "      <td>26.0</td>\n",
              "      <td>0</td>\n",
              "      <td>0</td>\n",
              "      <td>STON/O2. 3101282</td>\n",
              "      <td>7.9250</td>\n",
              "      <td>S</td>\n",
              "    </tr>\n",
              "    <tr>\n",
              "      <th>4</th>\n",
              "      <td>1</td>\n",
              "      <td>1</td>\n",
              "      <td>Futrelle, Mrs. Jacques Heath (Lily May Peel)</td>\n",
              "      <td>female</td>\n",
              "      <td>35.0</td>\n",
              "      <td>1</td>\n",
              "      <td>0</td>\n",
              "      <td>113803</td>\n",
              "      <td>53.1000</td>\n",
              "      <td>S</td>\n",
              "    </tr>\n",
              "    <tr>\n",
              "      <th>5</th>\n",
              "      <td>0</td>\n",
              "      <td>3</td>\n",
              "      <td>Allen, Mr. William Henry</td>\n",
              "      <td>male</td>\n",
              "      <td>35.0</td>\n",
              "      <td>0</td>\n",
              "      <td>0</td>\n",
              "      <td>373450</td>\n",
              "      <td>8.0500</td>\n",
              "      <td>S</td>\n",
              "    </tr>\n",
              "    <tr>\n",
              "      <th>...</th>\n",
              "      <td>...</td>\n",
              "      <td>...</td>\n",
              "      <td>...</td>\n",
              "      <td>...</td>\n",
              "      <td>...</td>\n",
              "      <td>...</td>\n",
              "      <td>...</td>\n",
              "      <td>...</td>\n",
              "      <td>...</td>\n",
              "      <td>...</td>\n",
              "    </tr>\n",
              "    <tr>\n",
              "      <th>886</th>\n",
              "      <td>0</td>\n",
              "      <td>3</td>\n",
              "      <td>Rice, Mrs. William (Margaret Norton)</td>\n",
              "      <td>female</td>\n",
              "      <td>39.0</td>\n",
              "      <td>0</td>\n",
              "      <td>5</td>\n",
              "      <td>382652</td>\n",
              "      <td>29.1250</td>\n",
              "      <td>Q</td>\n",
              "    </tr>\n",
              "    <tr>\n",
              "      <th>887</th>\n",
              "      <td>0</td>\n",
              "      <td>2</td>\n",
              "      <td>Montvila, Rev. Juozas</td>\n",
              "      <td>male</td>\n",
              "      <td>27.0</td>\n",
              "      <td>0</td>\n",
              "      <td>0</td>\n",
              "      <td>211536</td>\n",
              "      <td>13.0000</td>\n",
              "      <td>S</td>\n",
              "    </tr>\n",
              "    <tr>\n",
              "      <th>888</th>\n",
              "      <td>1</td>\n",
              "      <td>1</td>\n",
              "      <td>Graham, Miss. Margaret Edith</td>\n",
              "      <td>female</td>\n",
              "      <td>19.0</td>\n",
              "      <td>0</td>\n",
              "      <td>0</td>\n",
              "      <td>112053</td>\n",
              "      <td>30.0000</td>\n",
              "      <td>S</td>\n",
              "    </tr>\n",
              "    <tr>\n",
              "      <th>890</th>\n",
              "      <td>1</td>\n",
              "      <td>1</td>\n",
              "      <td>Behr, Mr. Karl Howell</td>\n",
              "      <td>male</td>\n",
              "      <td>26.0</td>\n",
              "      <td>0</td>\n",
              "      <td>0</td>\n",
              "      <td>111369</td>\n",
              "      <td>30.0000</td>\n",
              "      <td>C</td>\n",
              "    </tr>\n",
              "    <tr>\n",
              "      <th>891</th>\n",
              "      <td>0</td>\n",
              "      <td>3</td>\n",
              "      <td>Dooley, Mr. Patrick</td>\n",
              "      <td>male</td>\n",
              "      <td>32.0</td>\n",
              "      <td>0</td>\n",
              "      <td>0</td>\n",
              "      <td>370376</td>\n",
              "      <td>7.7500</td>\n",
              "      <td>Q</td>\n",
              "    </tr>\n",
              "  </tbody>\n",
              "</table>\n",
              "<p>712 rows × 10 columns</p>\n",
              "</div>"
            ],
            "text/plain": [
              "             Survived  Pclass  ...     Fare Embarked\n",
              "PassengerId                    ...                  \n",
              "1                   0       3  ...   7.2500        S\n",
              "2                   1       1  ...  71.2833        C\n",
              "3                   1       3  ...   7.9250        S\n",
              "4                   1       1  ...  53.1000        S\n",
              "5                   0       3  ...   8.0500        S\n",
              "...               ...     ...  ...      ...      ...\n",
              "886                 0       3  ...  29.1250        Q\n",
              "887                 0       2  ...  13.0000        S\n",
              "888                 1       1  ...  30.0000        S\n",
              "890                 1       1  ...  30.0000        C\n",
              "891                 0       3  ...   7.7500        Q\n",
              "\n",
              "[712 rows x 10 columns]"
            ]
          },
          "metadata": {
            "tags": []
          },
          "execution_count": 12
        }
      ]
    },
    {
      "cell_type": "code",
      "metadata": {
        "colab": {
          "base_uri": "https://localhost:8080/"
        },
        "id": "oTyxM_SW1lmN",
        "outputId": "f020e5c1-7be0-4617-de61-ce940dcb4fae"
      },
      "source": [
        "# Checking the shape of the new dataset\n",
        "\n",
        "data.shape"
      ],
      "execution_count": 13,
      "outputs": [
        {
          "output_type": "execute_result",
          "data": {
            "text/plain": [
              "(712, 10)"
            ]
          },
          "metadata": {
            "tags": []
          },
          "execution_count": 13
        }
      ]
    },
    {
      "cell_type": "code",
      "metadata": {
        "colab": {
          "base_uri": "https://localhost:8080/",
          "height": 237
        },
        "id": "f1kqLQQh1yiI",
        "outputId": "37bb86ca-2d54-4c21-ffc9-9c04fe3a304e"
      },
      "source": [
        "# Dropping name column\n",
        "\n",
        "data = data.drop(columns=['Name'])\n",
        "\n",
        "data.sample(n=5)"
      ],
      "execution_count": 14,
      "outputs": [
        {
          "output_type": "execute_result",
          "data": {
            "text/html": [
              "<div>\n",
              "<style scoped>\n",
              "    .dataframe tbody tr th:only-of-type {\n",
              "        vertical-align: middle;\n",
              "    }\n",
              "\n",
              "    .dataframe tbody tr th {\n",
              "        vertical-align: top;\n",
              "    }\n",
              "\n",
              "    .dataframe thead th {\n",
              "        text-align: right;\n",
              "    }\n",
              "</style>\n",
              "<table border=\"1\" class=\"dataframe\">\n",
              "  <thead>\n",
              "    <tr style=\"text-align: right;\">\n",
              "      <th></th>\n",
              "      <th>Survived</th>\n",
              "      <th>Pclass</th>\n",
              "      <th>Sex</th>\n",
              "      <th>Age</th>\n",
              "      <th>SibSp</th>\n",
              "      <th>Parch</th>\n",
              "      <th>Ticket</th>\n",
              "      <th>Fare</th>\n",
              "      <th>Embarked</th>\n",
              "    </tr>\n",
              "    <tr>\n",
              "      <th>PassengerId</th>\n",
              "      <th></th>\n",
              "      <th></th>\n",
              "      <th></th>\n",
              "      <th></th>\n",
              "      <th></th>\n",
              "      <th></th>\n",
              "      <th></th>\n",
              "      <th></th>\n",
              "      <th></th>\n",
              "    </tr>\n",
              "  </thead>\n",
              "  <tbody>\n",
              "    <tr>\n",
              "      <th>792</th>\n",
              "      <td>0</td>\n",
              "      <td>2</td>\n",
              "      <td>male</td>\n",
              "      <td>16.0</td>\n",
              "      <td>0</td>\n",
              "      <td>0</td>\n",
              "      <td>239865</td>\n",
              "      <td>26.0000</td>\n",
              "      <td>S</td>\n",
              "    </tr>\n",
              "    <tr>\n",
              "      <th>619</th>\n",
              "      <td>1</td>\n",
              "      <td>2</td>\n",
              "      <td>female</td>\n",
              "      <td>4.0</td>\n",
              "      <td>2</td>\n",
              "      <td>1</td>\n",
              "      <td>230136</td>\n",
              "      <td>39.0000</td>\n",
              "      <td>S</td>\n",
              "    </tr>\n",
              "    <tr>\n",
              "      <th>374</th>\n",
              "      <td>0</td>\n",
              "      <td>1</td>\n",
              "      <td>male</td>\n",
              "      <td>22.0</td>\n",
              "      <td>0</td>\n",
              "      <td>0</td>\n",
              "      <td>PC 17760</td>\n",
              "      <td>135.6333</td>\n",
              "      <td>C</td>\n",
              "    </tr>\n",
              "    <tr>\n",
              "      <th>64</th>\n",
              "      <td>0</td>\n",
              "      <td>3</td>\n",
              "      <td>male</td>\n",
              "      <td>4.0</td>\n",
              "      <td>3</td>\n",
              "      <td>2</td>\n",
              "      <td>347088</td>\n",
              "      <td>27.9000</td>\n",
              "      <td>S</td>\n",
              "    </tr>\n",
              "    <tr>\n",
              "      <th>248</th>\n",
              "      <td>1</td>\n",
              "      <td>2</td>\n",
              "      <td>female</td>\n",
              "      <td>24.0</td>\n",
              "      <td>0</td>\n",
              "      <td>2</td>\n",
              "      <td>250649</td>\n",
              "      <td>14.5000</td>\n",
              "      <td>S</td>\n",
              "    </tr>\n",
              "  </tbody>\n",
              "</table>\n",
              "</div>"
            ],
            "text/plain": [
              "             Survived  Pclass     Sex   Age  ...  Parch    Ticket      Fare  Embarked\n",
              "PassengerId                                  ...                                     \n",
              "792                 0       2    male  16.0  ...      0    239865   26.0000         S\n",
              "619                 1       2  female   4.0  ...      1    230136   39.0000         S\n",
              "374                 0       1    male  22.0  ...      0  PC 17760  135.6333         C\n",
              "64                  0       3    male   4.0  ...      2    347088   27.9000         S\n",
              "248                 1       2  female  24.0  ...      2    250649   14.5000         S\n",
              "\n",
              "[5 rows x 9 columns]"
            ]
          },
          "metadata": {
            "tags": []
          },
          "execution_count": 14
        }
      ]
    },
    {
      "cell_type": "markdown",
      "metadata": {
        "id": "eYo2fETY3jVu"
      },
      "source": [
        "The names of the passengers didnot have any effect on the analysis of the data so, I deleted them"
      ]
    },
    {
      "cell_type": "markdown",
      "metadata": {
        "id": "_FkRpUzp3Gl8"
      },
      "source": [
        "# Checking for Outliers"
      ]
    },
    {
      "cell_type": "code",
      "metadata": {
        "colab": {
          "base_uri": "https://localhost:8080/",
          "height": 583
        },
        "id": "yUMIx2Qf3CQb",
        "outputId": "c1959dac-a8df-4f15-9105-ffce66828468"
      },
      "source": [
        "# Using boxplots to check for outliers\n",
        "\n",
        "boxplot = pd.DataFrame(data = data, columns = ['Survived', 'Pclass', 'Age', 'SibSp', 'Parch', 'Fare'])\n",
        "\n",
        "plt.figure(figsize=(20,10))\n",
        "\n",
        "sns.boxplot(x='variable', y='value', data=pd.melt(boxplot), color = 'blue').set_title('Boxplots')\n",
        "\n",
        "plt.show()"
      ],
      "execution_count": 15,
      "outputs": [
        {
          "output_type": "display_data",
          "data": {
            "image/png": "[encoded data removed]",
            "text/plain": [
              "<Figure size 1440x720 with 1 Axes>"
            ]
          },
          "metadata": {
            "tags": [],
            "needs_background": "light"
          }
        }
      ]
    },
    {
      "cell_type": "markdown",
      "metadata": {
        "id": "RLMYOR6C3dcs"
      },
      "source": [
        "\n",
        "\n",
        "*   The age and fare columns have outliers. We will keep these records in the analysis but perform feature scaling later for modeling\n",
        "\n"
      ]
    },
    {
      "cell_type": "markdown",
      "metadata": {
        "id": "2XLynUOJ4HNe"
      },
      "source": [
        "# Exploratory Data Analysis"
      ]
    },
    {
      "cell_type": "markdown",
      "metadata": {
        "id": "sjJOeo5C4Lco"
      },
      "source": [
        "# Univariate Analysis"
      ]
    },
    {
      "cell_type": "code",
      "metadata": {
        "colab": {
          "base_uri": "https://localhost:8080/",
          "height": 553
        },
        "id": "yZMvSxfR3hKp",
        "outputId": "db493f46-1924-4acc-a2ab-364dc3565776"
      },
      "source": [
        "# plotting bar charts to check distributions\n",
        "\n",
        "fig,ax=plt.subplots(1,3,figsize=(21,7))\n",
        "sns.countplot('Survived',data= data,ax=ax[0])\n",
        "ax[0].set_title('Survival Status')\n",
        "sns.countplot('Pclass',data=data,ax=ax[1])\n",
        "ax[1].set_title('Pclass Distribution')\n",
        "sns.countplot('SibSp',data=data,ax=ax[2])\n",
        "ax[2].set_title('SibSp Distribution')"
      ],
      "execution_count": 16,
      "outputs": [
        {
          "output_type": "stream",
          "text": [
            "/usr/local/lib/python3.7/dist-packages/seaborn/_decorators.py:43: FutureWarning: Pass the following variable as a keyword arg: x. From version 0.12, the only valid positional argument will be `data`, and passing other arguments without an explicit keyword will result in an error or misinterpretation.\n",
            "  FutureWarning\n",
            "/usr/local/lib/python3.7/dist-packages/seaborn/_decorators.py:43: FutureWarning: Pass the following variable as a keyword arg: x. From version 0.12, the only valid positional argument will be `data`, and passing other arguments without an explicit keyword will result in an error or misinterpretation.\n",
            "  FutureWarning\n",
            "/usr/local/lib/python3.7/dist-packages/seaborn/_decorators.py:43: FutureWarning: Pass the following variable as a keyword arg: x. From version 0.12, the only valid positional argument will be `data`, and passing other arguments without an explicit keyword will result in an error or misinterpretation.\n",
            "  FutureWarning\n"
          ],
          "name": "stderr"
        },
        {
          "output_type": "execute_result",
          "data": {
            "text/plain": [
              "Text(0.5, 1.0, 'SibSp Distribution')"
            ]
          },
          "metadata": {
            "tags": []
          },
          "execution_count": 16
        },
        {
          "output_type": "display_data",
          "data": {
            "image/png": "[encoded data removed]",
            "text/plain": [
              "<Figure size 1512x504 with 3 Axes>"
            ]
          },
          "metadata": {
            "tags": [],
            "needs_background": "light"
          }
        }
      ]
    },
    {
      "cell_type": "markdown",
      "metadata": {
        "id": "8DlCafVQ4WeG"
      },
      "source": [
        "More people didn't survied the accident. Also, most passengers were in the third\"Pclass\" while the most popular SibSp was 0."
      ]
    },
    {
      "cell_type": "code",
      "metadata": {
        "colab": {
          "base_uri": "https://localhost:8080/",
          "height": 553
        },
        "id": "R2RwcAAA4vvc",
        "outputId": "075ce435-0cc0-4af7-dc5f-56a9340be03c"
      },
      "source": [
        "# more bar charts\n",
        "\n",
        "fig,ax=plt.subplots(1,3,figsize=(21,7))\n",
        "sns.countplot('Sex',data=data,ax=ax[0])\n",
        "ax[0].set_title('Gender Distribution')\n",
        "sns.countplot('Parch',data=data,ax=ax[1])\n",
        "ax[1].set_title('Parch Distribution')\n",
        "sns.countplot('Embarked',data=data,ax=ax[2])\n",
        "ax[2].set_title('Embarked Distribution')"
      ],
      "execution_count": 17,
      "outputs": [
        {
          "output_type": "stream",
          "text": [
            "/usr/local/lib/python3.7/dist-packages/seaborn/_decorators.py:43: FutureWarning: Pass the following variable as a keyword arg: x. From version 0.12, the only valid positional argument will be `data`, and passing other arguments without an explicit keyword will result in an error or misinterpretation.\n",
            "  FutureWarning\n",
            "/usr/local/lib/python3.7/dist-packages/seaborn/_decorators.py:43: FutureWarning: Pass the following variable as a keyword arg: x. From version 0.12, the only valid positional argument will be `data`, and passing other arguments without an explicit keyword will result in an error or misinterpretation.\n",
            "  FutureWarning\n",
            "/usr/local/lib/python3.7/dist-packages/seaborn/_decorators.py:43: FutureWarning: Pass the following variable as a keyword arg: x. From version 0.12, the only valid positional argument will be `data`, and passing other arguments without an explicit keyword will result in an error or misinterpretation.\n",
            "  FutureWarning\n"
          ],
          "name": "stderr"
        },
        {
          "output_type": "execute_result",
          "data": {
            "text/plain": [
              "Text(0.5, 1.0, 'Embarked Distribution')"
            ]
          },
          "metadata": {
            "tags": []
          },
          "execution_count": 17
        },
        {
          "output_type": "display_data",
          "data": {
            "image/png": "[encoded data removed]",
            "text/plain": [
              "<Figure size 1512x504 with 3 Axes>"
            ]
          },
          "metadata": {
            "tags": [],
            "needs_background": "light"
          }
        }
      ]
    },
    {
      "cell_type": "markdown",
      "metadata": {
        "id": "QGbzogew39Wo"
      },
      "source": [
        "Most passengers on the ship were males and most of boarded from Southampton"
      ]
    },
    {
      "cell_type": "code",
      "metadata": {
        "colab": {
          "base_uri": "https://localhost:8080/",
          "height": 1000
        },
        "id": "C0efc_cV55Zk",
        "outputId": "c4811581-f6c1-4772-bf26-c0cad9d95ee9"
      },
      "source": [
        "# Frequency distribution plots\n",
        "\n",
        "col_names = ['Survived', 'Pclass', 'Age', 'SibSp', 'Parch', 'Fare']\n",
        "\n",
        "fig, ax = plt.subplots(len(col_names), figsize=(10,20))\n",
        "\n",
        "for i, col_val in enumerate(col_names):\n",
        "\n",
        "    sns.distplot(data[col_val], hist=True, ax=ax[i])\n",
        "    ax[i].set_title('Frequency distribution of '+col_val, fontsize=10)\n",
        "    ax[i].set_xlabel(col_val, fontsize=8)\n",
        "    ax[i].set_ylabel('Count', fontsize=8)\n",
        "\n",
        "plt.show()"
      ],
      "execution_count": 18,
      "outputs": [
        {
          "output_type": "stream",
          "text": [
            "/usr/local/lib/python3.7/dist-packages/seaborn/distributions.py:2557: FutureWarning: `distplot` is a deprecated function and will be removed in a future version. Please adapt your code to use either `displot` (a figure-level function with similar flexibility) or `histplot` (an axes-level function for histograms).\n",
            "  warnings.warn(msg, FutureWarning)\n",
            "/usr/local/lib/python3.7/dist-packages/seaborn/distributions.py:2557: FutureWarning: `distplot` is a deprecated function and will be removed in a future version. Please adapt your code to use either `displot` (a figure-level function with similar flexibility) or `histplot` (an axes-level function for histograms).\n",
            "  warnings.warn(msg, FutureWarning)\n",
            "/usr/local/lib/python3.7/dist-packages/seaborn/distributions.py:2557: FutureWarning: `distplot` is a deprecated function and will be removed in a future version. Please adapt your code to use either `displot` (a figure-level function with similar flexibility) or `histplot` (an axes-level function for histograms).\n",
            "  warnings.warn(msg, FutureWarning)\n",
            "/usr/local/lib/python3.7/dist-packages/seaborn/distributions.py:2557: FutureWarning: `distplot` is a deprecated function and will be removed in a future version. Please adapt your code to use either `displot` (a figure-level function with similar flexibility) or `histplot` (an axes-level function for histograms).\n",
            "  warnings.warn(msg, FutureWarning)\n",
            "/usr/local/lib/python3.7/dist-packages/seaborn/distributions.py:2557: FutureWarning: `distplot` is a deprecated function and will be removed in a future version. Please adapt your code to use either `displot` (a figure-level function with similar flexibility) or `histplot` (an axes-level function for histograms).\n",
            "  warnings.warn(msg, FutureWarning)\n",
            "/usr/local/lib/python3.7/dist-packages/seaborn/distributions.py:2557: FutureWarning: `distplot` is a deprecated function and will be removed in a future version. Please adapt your code to use either `displot` (a figure-level function with similar flexibility) or `histplot` (an axes-level function for histograms).\n",
            "  warnings.warn(msg, FutureWarning)\n"
          ],
          "name": "stderr"
        },
        {
          "output_type": "display_data",
          "data": {
            "image/png": "[encoded data removed]",
            "text/plain": [
              "<Figure size 720x1440 with 6 Axes>"
            ]
          },
          "metadata": {
            "tags": [],
            "needs_background": "light"
          }
        }
      ]
    },
    {
      "cell_type": "markdown",
      "metadata": {
        "id": "K_LNf5Cq42T1"
      },
      "source": [
        "The fare variable has a right skew, with most passengers paying fares between 0 and 50.\n",
        "\n",
        "The age variable has a normal distribution"
      ]
    },
    {
      "cell_type": "code",
      "metadata": {
        "colab": {
          "base_uri": "https://localhost:8080/",
          "height": 570
        },
        "id": "3GDRLj-S8xzD",
        "outputId": "b36e1f2c-3f00-4319-8aee-f1cea4a80231"
      },
      "source": [
        "# histograms to show distribution of age and fare\n",
        "\n",
        "fig, ax=plt.subplots(1,2, figsize=(20,10))\n",
        "data['Age'].plot.hist(ax=ax[0], bins=10, edgecolor='black', color='darkorange')\n",
        "ax[0].set_title('Age Distribution')\n",
        "\n",
        "data['Fare'].plot.hist(ax=ax[1], bins=10, edgecolor='royalblue')\n",
        "ax[1].set_title('Fare Distribution')\n",
        "\n",
        "\n",
        "plt.show()"
      ],
      "execution_count": 19,
      "outputs": [
        {
          "output_type": "display_data",
          "data": {
            "image/png": "[encoded data removed]",
            "text/plain": [
              "<Figure size 1440x720 with 2 Axes>"
            ]
          },
          "metadata": {
            "tags": [],
            "needs_background": "light"
          }
        }
      ]
    },
    {
      "cell_type": "markdown",
      "metadata": {
        "id": "MTCRffzW9Kqb"
      },
      "source": [
        "# Measures of Central Tendency"
      ]
    },
    {
      "cell_type": "code",
      "metadata": {
        "colab": {
          "base_uri": "https://localhost:8080/"
        },
        "id": "gzgtyF-a9Ous",
        "outputId": "87499d17-5b14-4fc4-a914-3b9b5c66ad7c"
      },
      "source": [
        "# mean, mode and median ages\n",
        "\n",
        "print('Mean age is ' + str(data.Age.mean()))\n",
        "print('Median age is ' + str(data.Age.median()))\n",
        "print('Mode age is ' + str(data.Age.mode()))"
      ],
      "execution_count": 20,
      "outputs": [
        {
          "output_type": "stream",
          "text": [
            "Mean age is 29.64209269662921\n",
            "Median age is 28.0\n",
            "Mode age is 0    24.0\n",
            "dtype: float64\n"
          ],
          "name": "stdout"
        }
      ]
    },
    {
      "cell_type": "code",
      "metadata": {
        "colab": {
          "base_uri": "https://localhost:8080/"
        },
        "id": "EgTPWKSB9fAz",
        "outputId": "3df39c1f-f9fb-4013-a8fa-a4ca344690cc"
      },
      "source": [
        "# mean, mode and median fares\n",
        "\n",
        "print('Mean fare is ' + str(data.Fare.mean()))\n",
        "print('Median fare is ' + str(data.Fare.median()))\n",
        "print('Mode fare is ' + str(data.Fare.mode()))"
      ],
      "execution_count": 21,
      "outputs": [
        {
          "output_type": "stream",
          "text": [
            "Mean fare is 34.56725140449432\n",
            "Median fare is 15.64585\n",
            "Mode fare is 0    13.0\n",
            "dtype: float64\n"
          ],
          "name": "stdout"
        }
      ]
    },
    {
      "cell_type": "code",
      "metadata": {
        "colab": {
          "base_uri": "https://localhost:8080/",
          "height": 300
        },
        "id": "80gHI-dk9svi",
        "outputId": "823d9bcb-e6f3-40f6-a4d5-731e34f58f58"
      },
      "source": [
        "# summary statistics of numeric variables\n",
        "\n",
        "data.describe()"
      ],
      "execution_count": 22,
      "outputs": [
        {
          "output_type": "execute_result",
          "data": {
            "text/html": [
              "<div>\n",
              "<style scoped>\n",
              "    .dataframe tbody tr th:only-of-type {\n",
              "        vertical-align: middle;\n",
              "    }\n",
              "\n",
              "    .dataframe tbody tr th {\n",
              "        vertical-align: top;\n",
              "    }\n",
              "\n",
              "    .dataframe thead th {\n",
              "        text-align: right;\n",
              "    }\n",
              "</style>\n",
              "<table border=\"1\" class=\"dataframe\">\n",
              "  <thead>\n",
              "    <tr style=\"text-align: right;\">\n",
              "      <th></th>\n",
              "      <th>Survived</th>\n",
              "      <th>Pclass</th>\n",
              "      <th>Age</th>\n",
              "      <th>SibSp</th>\n",
              "      <th>Parch</th>\n",
              "      <th>Fare</th>\n",
              "    </tr>\n",
              "  </thead>\n",
              "  <tbody>\n",
              "    <tr>\n",
              "      <th>count</th>\n",
              "      <td>712.000000</td>\n",
              "      <td>712.000000</td>\n",
              "      <td>712.000000</td>\n",
              "      <td>712.000000</td>\n",
              "      <td>712.000000</td>\n",
              "      <td>712.000000</td>\n",
              "    </tr>\n",
              "    <tr>\n",
              "      <th>mean</th>\n",
              "      <td>0.404494</td>\n",
              "      <td>2.240169</td>\n",
              "      <td>29.642093</td>\n",
              "      <td>0.514045</td>\n",
              "      <td>0.432584</td>\n",
              "      <td>34.567251</td>\n",
              "    </tr>\n",
              "    <tr>\n",
              "      <th>std</th>\n",
              "      <td>0.491139</td>\n",
              "      <td>0.836854</td>\n",
              "      <td>14.492933</td>\n",
              "      <td>0.930692</td>\n",
              "      <td>0.854181</td>\n",
              "      <td>52.938648</td>\n",
              "    </tr>\n",
              "    <tr>\n",
              "      <th>min</th>\n",
              "      <td>0.000000</td>\n",
              "      <td>1.000000</td>\n",
              "      <td>0.420000</td>\n",
              "      <td>0.000000</td>\n",
              "      <td>0.000000</td>\n",
              "      <td>0.000000</td>\n",
              "    </tr>\n",
              "    <tr>\n",
              "      <th>25%</th>\n",
              "      <td>0.000000</td>\n",
              "      <td>1.000000</td>\n",
              "      <td>20.000000</td>\n",
              "      <td>0.000000</td>\n",
              "      <td>0.000000</td>\n",
              "      <td>8.050000</td>\n",
              "    </tr>\n",
              "    <tr>\n",
              "      <th>50%</th>\n",
              "      <td>0.000000</td>\n",
              "      <td>2.000000</td>\n",
              "      <td>28.000000</td>\n",
              "      <td>0.000000</td>\n",
              "      <td>0.000000</td>\n",
              "      <td>15.645850</td>\n",
              "    </tr>\n",
              "    <tr>\n",
              "      <th>75%</th>\n",
              "      <td>1.000000</td>\n",
              "      <td>3.000000</td>\n",
              "      <td>38.000000</td>\n",
              "      <td>1.000000</td>\n",
              "      <td>1.000000</td>\n",
              "      <td>33.000000</td>\n",
              "    </tr>\n",
              "    <tr>\n",
              "      <th>max</th>\n",
              "      <td>1.000000</td>\n",
              "      <td>3.000000</td>\n",
              "      <td>80.000000</td>\n",
              "      <td>5.000000</td>\n",
              "      <td>6.000000</td>\n",
              "      <td>512.329200</td>\n",
              "    </tr>\n",
              "  </tbody>\n",
              "</table>\n",
              "</div>"
            ],
            "text/plain": [
              "         Survived      Pclass         Age       SibSp       Parch        Fare\n",
              "count  712.000000  712.000000  712.000000  712.000000  712.000000  712.000000\n",
              "mean     0.404494    2.240169   29.642093    0.514045    0.432584   34.567251\n",
              "std      0.491139    0.836854   14.492933    0.930692    0.854181   52.938648\n",
              "min      0.000000    1.000000    0.420000    0.000000    0.000000    0.000000\n",
              "25%      0.000000    1.000000   20.000000    0.000000    0.000000    8.050000\n",
              "50%      0.000000    2.000000   28.000000    0.000000    0.000000   15.645850\n",
              "75%      1.000000    3.000000   38.000000    1.000000    1.000000   33.000000\n",
              "max      1.000000    3.000000   80.000000    5.000000    6.000000  512.329200"
            ]
          },
          "metadata": {
            "tags": []
          },
          "execution_count": 22
        }
      ]
    },
    {
      "cell_type": "markdown",
      "metadata": {
        "id": "PIKJYGCO9zJ8"
      },
      "source": [
        "# Bivariate Analysis"
      ]
    },
    {
      "cell_type": "code",
      "metadata": {
        "colab": {
          "base_uri": "https://localhost:8080/",
          "height": 596
        },
        "id": "DVcZGEW190rx",
        "outputId": "f460d620-3213-4c65-ec2f-7cade75a4a72"
      },
      "source": [
        "# Plotting the Pearson correlation coefficients\n",
        "\n",
        "plt.figure(figsize=(20,10))\n",
        "sns.heatmap(data.corr(), annot=True)\n",
        "plt.show()"
      ],
      "execution_count": 23,
      "outputs": [
        {
          "output_type": "display_data",
          "data": {
            "image/png": "[encoded data removed]",
            "text/plain": [
              "<Figure size 1440x720 with 2 Axes>"
            ]
          },
          "metadata": {
            "tags": [],
            "needs_background": "light"
          }
        }
      ]
    },
    {
      "cell_type": "markdown",
      "metadata": {
        "id": "3vEys-DQ5Erq"
      },
      "source": [
        "The attributes SibSp and Parch have a relatively weak positive correlation. On the other hand, fare and Pclass have a strong negative correlation."
      ]
    },
    {
      "cell_type": "code",
      "metadata": {
        "colab": {
          "base_uri": "https://localhost:8080/",
          "height": 1000
        },
        "id": "ehBYUp_N-JYp",
        "outputId": "eef24997-eab2-47cb-ff64-7349e997d094"
      },
      "source": [
        "# Ploting the bivariate summaries\n",
        "\n",
        "sns.pairplot(data)\n",
        "plt.show()"
      ],
      "execution_count": 36,
      "outputs": [
        {
          "output_type": "display_data",
          "data": {
            "image/png": "[encoded data removed]",
            "text/plain": [
              "<Figure size 1080x1080 with 42 Axes>"
            ]
          },
          "metadata": {
            "tags": [],
            "needs_background": "light"
          }
        }
      ]
    },
    {
      "cell_type": "code",
      "metadata": {
        "colab": {
          "base_uri": "https://localhost:8080/",
          "height": 237
        },
        "id": "ykypFPUb-kWk",
        "outputId": "00a4e16c-fc1c-478d-f536-111e3d5c4227"
      },
      "source": [
        "# Creating age groups\n",
        "\n",
        "conditions = [\n",
        "    (data['Age'] >= 0) & (data['Age'] <= 10),\n",
        "    (data['Age'] >= 11) & (data['Age'] <= 20),\n",
        "    (data['Age'] >= 21) & (data['Age'] <= 30),\n",
        "    (data['Age'] >= 31) & (data['Age'] <= 40),\n",
        "    (data['Age'] >= 41) & (data['Age'] <= 50),\n",
        "    (data['Age'] >= 51) & (data['Age'] <= 60),\n",
        "    (data['Age'] >= 61) & (data['Age'] <= 100)]\n",
        "\n",
        "# create a list of the values we want to assign for each condition\n",
        "values = ['Below 10', '11-20', '21-30', '31-40', '41-50', '51-60', 'Above 60']\n",
        "\n",
        "# create a new column and use np.select to assign values to it using our lists as arguments\n",
        "data['age_group'] = np.select(conditions, values)\n",
        "\n",
        "# display updated DataFrame\n",
        "data.head()"
      ],
      "execution_count": 24,
      "outputs": [
        {
          "output_type": "execute_result",
          "data": {
            "text/html": [
              "<div>\n",
              "<style scoped>\n",
              "    .dataframe tbody tr th:only-of-type {\n",
              "        vertical-align: middle;\n",
              "    }\n",
              "\n",
              "    .dataframe tbody tr th {\n",
              "        vertical-align: top;\n",
              "    }\n",
              "\n",
              "    .dataframe thead th {\n",
              "        text-align: right;\n",
              "    }\n",
              "</style>\n",
              "<table border=\"1\" class=\"dataframe\">\n",
              "  <thead>\n",
              "    <tr style=\"text-align: right;\">\n",
              "      <th></th>\n",
              "      <th>Survived</th>\n",
              "      <th>Pclass</th>\n",
              "      <th>Sex</th>\n",
              "      <th>Age</th>\n",
              "      <th>SibSp</th>\n",
              "      <th>Parch</th>\n",
              "      <th>Ticket</th>\n",
              "      <th>Fare</th>\n",
              "      <th>Embarked</th>\n",
              "      <th>age_group</th>\n",
              "    </tr>\n",
              "    <tr>\n",
              "      <th>PassengerId</th>\n",
              "      <th></th>\n",
              "      <th></th>\n",
              "      <th></th>\n",
              "      <th></th>\n",
              "      <th></th>\n",
              "      <th></th>\n",
              "      <th></th>\n",
              "      <th></th>\n",
              "      <th></th>\n",
              "      <th></th>\n",
              "    </tr>\n",
              "  </thead>\n",
              "  <tbody>\n",
              "    <tr>\n",
              "      <th>1</th>\n",
              "      <td>0</td>\n",
              "      <td>3</td>\n",
              "      <td>male</td>\n",
              "      <td>22.0</td>\n",
              "      <td>1</td>\n",
              "      <td>0</td>\n",
              "      <td>A/5 21171</td>\n",
              "      <td>7.2500</td>\n",
              "      <td>S</td>\n",
              "      <td>21-30</td>\n",
              "    </tr>\n",
              "    <tr>\n",
              "      <th>2</th>\n",
              "      <td>1</td>\n",
              "      <td>1</td>\n",
              "      <td>female</td>\n",
              "      <td>38.0</td>\n",
              "      <td>1</td>\n",
              "      <td>0</td>\n",
              "      <td>PC 17599</td>\n",
              "      <td>71.2833</td>\n",
              "      <td>C</td>\n",
              "      <td>31-40</td>\n",
              "    </tr>\n",
              "    <tr>\n",
              "      <th>3</th>\n",
              "      <td>1</td>\n",
              "      <td>3</td>\n",
              "      <td>female</td>\n",
              "      <td>26.0</td>\n",
              "      <td>0</td>\n",
              "      <td>0</td>\n",
              "      <td>STON/O2. 3101282</td>\n",
              "      <td>7.9250</td>\n",
              "      <td>S</td>\n",
              "      <td>21-30</td>\n",
              "    </tr>\n",
              "    <tr>\n",
              "      <th>4</th>\n",
              "      <td>1</td>\n",
              "      <td>1</td>\n",
              "      <td>female</td>\n",
              "      <td>35.0</td>\n",
              "      <td>1</td>\n",
              "      <td>0</td>\n",
              "      <td>113803</td>\n",
              "      <td>53.1000</td>\n",
              "      <td>S</td>\n",
              "      <td>31-40</td>\n",
              "    </tr>\n",
              "    <tr>\n",
              "      <th>5</th>\n",
              "      <td>0</td>\n",
              "      <td>3</td>\n",
              "      <td>male</td>\n",
              "      <td>35.0</td>\n",
              "      <td>0</td>\n",
              "      <td>0</td>\n",
              "      <td>373450</td>\n",
              "      <td>8.0500</td>\n",
              "      <td>S</td>\n",
              "      <td>31-40</td>\n",
              "    </tr>\n",
              "  </tbody>\n",
              "</table>\n",
              "</div>"
            ],
            "text/plain": [
              "             Survived  Pclass     Sex  ...     Fare  Embarked  age_group\n",
              "PassengerId                            ...                              \n",
              "1                   0       3    male  ...   7.2500         S      21-30\n",
              "2                   1       1  female  ...  71.2833         C      31-40\n",
              "3                   1       3  female  ...   7.9250         S      21-30\n",
              "4                   1       1  female  ...  53.1000         S      31-40\n",
              "5                   0       3    male  ...   8.0500         S      31-40\n",
              "\n",
              "[5 rows x 10 columns]"
            ]
          },
          "metadata": {
            "tags": []
          },
          "execution_count": 24
        }
      ]
    },
    {
      "cell_type": "code",
      "metadata": {
        "colab": {
          "base_uri": "https://localhost:8080/",
          "height": 641
        },
        "id": "ngPzp2FMApOY",
        "outputId": "5348d049-a5f7-4a25-8b7f-244655de20ef"
      },
      "source": [
        "# Comparing survival rate with gender, age group and Pclass\n",
        "\n",
        "fig,ax=plt.subplots(1,3,figsize=(20,8))\n",
        "\n",
        "sns.countplot('Sex',hue='Survived',data=data,ax=ax[0])\n",
        "ax[0].set_title('Survival Rates by Gender')\n",
        "\n",
        "\n",
        "sns.countplot('age_group',hue='Survived',data=data,ax=ax[1])\n",
        "ax[1].set_title('Survival Rates by Age Group')\n",
        "\n",
        "\n",
        "sns.countplot('Pclass',hue='Survived',data=data,ax=ax[2])\n",
        "ax[2].set_title('Survival Rates by Pclass')\n",
        "\n",
        "for ax in fig.axes:\n",
        "    plt.sca(ax)\n",
        "    plt.xticks(rotation=90)\n",
        "\n",
        "\n",
        "plt.show()"
      ],
      "execution_count": 25,
      "outputs": [
        {
          "output_type": "stream",
          "text": [
            "/usr/local/lib/python3.7/dist-packages/seaborn/_decorators.py:43: FutureWarning: Pass the following variable as a keyword arg: x. From version 0.12, the only valid positional argument will be `data`, and passing other arguments without an explicit keyword will result in an error or misinterpretation.\n",
            "  FutureWarning\n",
            "/usr/local/lib/python3.7/dist-packages/seaborn/_decorators.py:43: FutureWarning: Pass the following variable as a keyword arg: x. From version 0.12, the only valid positional argument will be `data`, and passing other arguments without an explicit keyword will result in an error or misinterpretation.\n",
            "  FutureWarning\n",
            "/usr/local/lib/python3.7/dist-packages/seaborn/_decorators.py:43: FutureWarning: Pass the following variable as a keyword arg: x. From version 0.12, the only valid positional argument will be `data`, and passing other arguments without an explicit keyword will result in an error or misinterpretation.\n",
            "  FutureWarning\n"
          ],
          "name": "stderr"
        },
        {
          "output_type": "display_data",
          "data": {
            "image/png": "[encoded data removed]",
            "text/plain": [
              "<Figure size 1440x576 with 3 Axes>"
            ]
          },
          "metadata": {
            "tags": [],
            "needs_background": "light"
          }
        }
      ]
    },
    {
      "cell_type": "markdown",
      "metadata": {
        "id": "28KdZz7rBDet"
      },
      "source": [
        "\n",
        "\n",
        "*   More females survived the males\n",
        "*   Mojority of casualities was highest in age group 21-30.\n",
        "*   Most casualities were also in Pclass, which third class"
      ]
    },
    {
      "cell_type": "markdown",
      "metadata": {
        "id": "kOz1O-NJBc1q"
      },
      "source": [
        "# Implementing the Solution"
      ]
    },
    {
      "cell_type": "markdown",
      "metadata": {
        "id": "-yAfUoD7BevH"
      },
      "source": [
        "# Feature Engineering"
      ]
    },
    {
      "cell_type": "code",
      "metadata": {
        "colab": {
          "base_uri": "https://localhost:8080/",
          "height": 455
        },
        "id": "bOi8rroEBhqN",
        "outputId": "cbf4bb2e-e3d7-4766-a77f-98d996eaf233"
      },
      "source": [
        "# Dropping unnecessary columns\n",
        "\n",
        "data1 = data.drop(columns=['age_group'])\n",
        "data1"
      ],
      "execution_count": 26,
      "outputs": [
        {
          "output_type": "execute_result",
          "data": {
            "text/html": [
              "<div>\n",
              "<style scoped>\n",
              "    .dataframe tbody tr th:only-of-type {\n",
              "        vertical-align: middle;\n",
              "    }\n",
              "\n",
              "    .dataframe tbody tr th {\n",
              "        vertical-align: top;\n",
              "    }\n",
              "\n",
              "    .dataframe thead th {\n",
              "        text-align: right;\n",
              "    }\n",
              "</style>\n",
              "<table border=\"1\" class=\"dataframe\">\n",
              "  <thead>\n",
              "    <tr style=\"text-align: right;\">\n",
              "      <th></th>\n",
              "      <th>Survived</th>\n",
              "      <th>Pclass</th>\n",
              "      <th>Sex</th>\n",
              "      <th>Age</th>\n",
              "      <th>SibSp</th>\n",
              "      <th>Parch</th>\n",
              "      <th>Ticket</th>\n",
              "      <th>Fare</th>\n",
              "      <th>Embarked</th>\n",
              "    </tr>\n",
              "    <tr>\n",
              "      <th>PassengerId</th>\n",
              "      <th></th>\n",
              "      <th></th>\n",
              "      <th></th>\n",
              "      <th></th>\n",
              "      <th></th>\n",
              "      <th></th>\n",
              "      <th></th>\n",
              "      <th></th>\n",
              "      <th></th>\n",
              "    </tr>\n",
              "  </thead>\n",
              "  <tbody>\n",
              "    <tr>\n",
              "      <th>1</th>\n",
              "      <td>0</td>\n",
              "      <td>3</td>\n",
              "      <td>male</td>\n",
              "      <td>22.0</td>\n",
              "      <td>1</td>\n",
              "      <td>0</td>\n",
              "      <td>A/5 21171</td>\n",
              "      <td>7.2500</td>\n",
              "      <td>S</td>\n",
              "    </tr>\n",
              "    <tr>\n",
              "      <th>2</th>\n",
              "      <td>1</td>\n",
              "      <td>1</td>\n",
              "      <td>female</td>\n",
              "      <td>38.0</td>\n",
              "      <td>1</td>\n",
              "      <td>0</td>\n",
              "      <td>PC 17599</td>\n",
              "      <td>71.2833</td>\n",
              "      <td>C</td>\n",
              "    </tr>\n",
              "    <tr>\n",
              "      <th>3</th>\n",
              "      <td>1</td>\n",
              "      <td>3</td>\n",
              "      <td>female</td>\n",
              "      <td>26.0</td>\n",
              "      <td>0</td>\n",
              "      <td>0</td>\n",
              "      <td>STON/O2. 3101282</td>\n",
              "      <td>7.9250</td>\n",
              "      <td>S</td>\n",
              "    </tr>\n",
              "    <tr>\n",
              "      <th>4</th>\n",
              "      <td>1</td>\n",
              "      <td>1</td>\n",
              "      <td>female</td>\n",
              "      <td>35.0</td>\n",
              "      <td>1</td>\n",
              "      <td>0</td>\n",
              "      <td>113803</td>\n",
              "      <td>53.1000</td>\n",
              "      <td>S</td>\n",
              "    </tr>\n",
              "    <tr>\n",
              "      <th>5</th>\n",
              "      <td>0</td>\n",
              "      <td>3</td>\n",
              "      <td>male</td>\n",
              "      <td>35.0</td>\n",
              "      <td>0</td>\n",
              "      <td>0</td>\n",
              "      <td>373450</td>\n",
              "      <td>8.0500</td>\n",
              "      <td>S</td>\n",
              "    </tr>\n",
              "    <tr>\n",
              "      <th>...</th>\n",
              "      <td>...</td>\n",
              "      <td>...</td>\n",
              "      <td>...</td>\n",
              "      <td>...</td>\n",
              "      <td>...</td>\n",
              "      <td>...</td>\n",
              "      <td>...</td>\n",
              "      <td>...</td>\n",
              "      <td>...</td>\n",
              "    </tr>\n",
              "    <tr>\n",
              "      <th>886</th>\n",
              "      <td>0</td>\n",
              "      <td>3</td>\n",
              "      <td>female</td>\n",
              "      <td>39.0</td>\n",
              "      <td>0</td>\n",
              "      <td>5</td>\n",
              "      <td>382652</td>\n",
              "      <td>29.1250</td>\n",
              "      <td>Q</td>\n",
              "    </tr>\n",
              "    <tr>\n",
              "      <th>887</th>\n",
              "      <td>0</td>\n",
              "      <td>2</td>\n",
              "      <td>male</td>\n",
              "      <td>27.0</td>\n",
              "      <td>0</td>\n",
              "      <td>0</td>\n",
              "      <td>211536</td>\n",
              "      <td>13.0000</td>\n",
              "      <td>S</td>\n",
              "    </tr>\n",
              "    <tr>\n",
              "      <th>888</th>\n",
              "      <td>1</td>\n",
              "      <td>1</td>\n",
              "      <td>female</td>\n",
              "      <td>19.0</td>\n",
              "      <td>0</td>\n",
              "      <td>0</td>\n",
              "      <td>112053</td>\n",
              "      <td>30.0000</td>\n",
              "      <td>S</td>\n",
              "    </tr>\n",
              "    <tr>\n",
              "      <th>890</th>\n",
              "      <td>1</td>\n",
              "      <td>1</td>\n",
              "      <td>male</td>\n",
              "      <td>26.0</td>\n",
              "      <td>0</td>\n",
              "      <td>0</td>\n",
              "      <td>111369</td>\n",
              "      <td>30.0000</td>\n",
              "      <td>C</td>\n",
              "    </tr>\n",
              "    <tr>\n",
              "      <th>891</th>\n",
              "      <td>0</td>\n",
              "      <td>3</td>\n",
              "      <td>male</td>\n",
              "      <td>32.0</td>\n",
              "      <td>0</td>\n",
              "      <td>0</td>\n",
              "      <td>370376</td>\n",
              "      <td>7.7500</td>\n",
              "      <td>Q</td>\n",
              "    </tr>\n",
              "  </tbody>\n",
              "</table>\n",
              "<p>712 rows × 9 columns</p>\n",
              "</div>"
            ],
            "text/plain": [
              "             Survived  Pclass     Sex  ...            Ticket     Fare  Embarked\n",
              "PassengerId                            ...                                     \n",
              "1                   0       3    male  ...         A/5 21171   7.2500         S\n",
              "2                   1       1  female  ...          PC 17599  71.2833         C\n",
              "3                   1       3  female  ...  STON/O2. 3101282   7.9250         S\n",
              "4                   1       1  female  ...            113803  53.1000         S\n",
              "5                   0       3    male  ...            373450   8.0500         S\n",
              "...               ...     ...     ...  ...               ...      ...       ...\n",
              "886                 0       3  female  ...            382652  29.1250         Q\n",
              "887                 0       2    male  ...            211536  13.0000         S\n",
              "888                 1       1  female  ...            112053  30.0000         S\n",
              "890                 1       1    male  ...            111369  30.0000         C\n",
              "891                 0       3    male  ...            370376   7.7500         Q\n",
              "\n",
              "[712 rows x 9 columns]"
            ]
          },
          "metadata": {
            "tags": []
          },
          "execution_count": 26
        }
      ]
    },
    {
      "cell_type": "code",
      "metadata": {
        "colab": {
          "base_uri": "https://localhost:8080/",
          "height": 237
        },
        "id": "mhwngSPYB4GB",
        "outputId": "4524cd40-128d-4c54-efc7-7a5fe4a0d31c"
      },
      "source": [
        "# encoding categorical variables\n",
        "\n",
        "# import labelencoder\n",
        "from sklearn.preprocessing import LabelEncoder\n",
        "\n",
        "# apply label encoder to appropriate column\n",
        "\n",
        "le = LabelEncoder()\n",
        "\n",
        "data1['Sex'] = le.fit_transform(data1['Sex'])\n",
        "data1['Ticket'] = le.fit_transform(data1['Ticket'])\n",
        "data1['Embarked'] = le.fit_transform(data1['Embarked'])\n",
        "\n",
        "data1.head()"
      ],
      "execution_count": 27,
      "outputs": [
        {
          "output_type": "execute_result",
          "data": {
            "text/html": [
              "<div>\n",
              "<style scoped>\n",
              "    .dataframe tbody tr th:only-of-type {\n",
              "        vertical-align: middle;\n",
              "    }\n",
              "\n",
              "    .dataframe tbody tr th {\n",
              "        vertical-align: top;\n",
              "    }\n",
              "\n",
              "    .dataframe thead th {\n",
              "        text-align: right;\n",
              "    }\n",
              "</style>\n",
              "<table border=\"1\" class=\"dataframe\">\n",
              "  <thead>\n",
              "    <tr style=\"text-align: right;\">\n",
              "      <th></th>\n",
              "      <th>Survived</th>\n",
              "      <th>Pclass</th>\n",
              "      <th>Sex</th>\n",
              "      <th>Age</th>\n",
              "      <th>SibSp</th>\n",
              "      <th>Parch</th>\n",
              "      <th>Ticket</th>\n",
              "      <th>Fare</th>\n",
              "      <th>Embarked</th>\n",
              "    </tr>\n",
              "    <tr>\n",
              "      <th>PassengerId</th>\n",
              "      <th></th>\n",
              "      <th></th>\n",
              "      <th></th>\n",
              "      <th></th>\n",
              "      <th></th>\n",
              "      <th></th>\n",
              "      <th></th>\n",
              "      <th></th>\n",
              "      <th></th>\n",
              "    </tr>\n",
              "  </thead>\n",
              "  <tbody>\n",
              "    <tr>\n",
              "      <th>1</th>\n",
              "      <td>0</td>\n",
              "      <td>3</td>\n",
              "      <td>1</td>\n",
              "      <td>22.0</td>\n",
              "      <td>1</td>\n",
              "      <td>0</td>\n",
              "      <td>407</td>\n",
              "      <td>7.2500</td>\n",
              "      <td>2</td>\n",
              "    </tr>\n",
              "    <tr>\n",
              "      <th>2</th>\n",
              "      <td>1</td>\n",
              "      <td>1</td>\n",
              "      <td>0</td>\n",
              "      <td>38.0</td>\n",
              "      <td>1</td>\n",
              "      <td>0</td>\n",
              "      <td>470</td>\n",
              "      <td>71.2833</td>\n",
              "      <td>0</td>\n",
              "    </tr>\n",
              "    <tr>\n",
              "      <th>3</th>\n",
              "      <td>1</td>\n",
              "      <td>3</td>\n",
              "      <td>0</td>\n",
              "      <td>26.0</td>\n",
              "      <td>0</td>\n",
              "      <td>0</td>\n",
              "      <td>531</td>\n",
              "      <td>7.9250</td>\n",
              "      <td>2</td>\n",
              "    </tr>\n",
              "    <tr>\n",
              "      <th>4</th>\n",
              "      <td>1</td>\n",
              "      <td>1</td>\n",
              "      <td>0</td>\n",
              "      <td>35.0</td>\n",
              "      <td>1</td>\n",
              "      <td>0</td>\n",
              "      <td>39</td>\n",
              "      <td>53.1000</td>\n",
              "      <td>2</td>\n",
              "    </tr>\n",
              "    <tr>\n",
              "      <th>5</th>\n",
              "      <td>0</td>\n",
              "      <td>3</td>\n",
              "      <td>1</td>\n",
              "      <td>35.0</td>\n",
              "      <td>0</td>\n",
              "      <td>0</td>\n",
              "      <td>372</td>\n",
              "      <td>8.0500</td>\n",
              "      <td>2</td>\n",
              "    </tr>\n",
              "  </tbody>\n",
              "</table>\n",
              "</div>"
            ],
            "text/plain": [
              "             Survived  Pclass  Sex   Age  ...  Parch  Ticket     Fare  Embarked\n",
              "PassengerId                               ...                                  \n",
              "1                   0       3    1  22.0  ...      0     407   7.2500         2\n",
              "2                   1       1    0  38.0  ...      0     470  71.2833         0\n",
              "3                   1       3    0  26.0  ...      0     531   7.9250         2\n",
              "4                   1       1    0  35.0  ...      0      39  53.1000         2\n",
              "5                   0       3    1  35.0  ...      0     372   8.0500         2\n",
              "\n",
              "[5 rows x 9 columns]"
            ]
          },
          "metadata": {
            "tags": []
          },
          "execution_count": 27
        }
      ]
    },
    {
      "cell_type": "markdown",
      "metadata": {
        "id": "FtCbNj3ECU8d"
      },
      "source": [
        "# KNN Classifier"
      ]
    },
    {
      "cell_type": "markdown",
      "metadata": {
        "id": "VM9a6f3uCWo-"
      },
      "source": [
        "# 80 - 20 Split of the data"
      ]
    },
    {
      "cell_type": "code",
      "metadata": {
        "id": "x2YUH1VTCaDr"
      },
      "source": [
        "# Defining the features and target variable\n",
        "\n",
        "my_cols = ['Pclass', 'Sex', 'Age', 'SibSp', 'Parch', 'Ticket', 'Fare', 'Embarked']\n",
        "\n",
        "# features\n",
        "X = data1[my_cols].values\n",
        "\n",
        "# target variable\n",
        "y = data1['Survived'].values"
      ],
      "execution_count": 28,
      "outputs": []
    },
    {
      "cell_type": "code",
      "metadata": {
        "id": "9UtvX8inCneu"
      },
      "source": [
        "# Defining the training and tests sets with an 80 - 20 split\n",
        "\n",
        "X_train, X_test, y_train, y_test = train_test_split(X, y, test_size=0.2, random_state=0)"
      ],
      "execution_count": 29,
      "outputs": []
    },
    {
      "cell_type": "code",
      "metadata": {
        "id": "k2KJuxnMCrfR"
      },
      "source": [
        "# Feature Scaling \n",
        "\n",
        "scaler = StandardScaler()\n",
        "scaler.fit(X_train)\n",
        "\n",
        "X_train = scaler.transform(X_train)\n",
        "X_test = scaler.transform(X_test)"
      ],
      "execution_count": 30,
      "outputs": []
    },
    {
      "cell_type": "code",
      "metadata": {
        "colab": {
          "base_uri": "https://localhost:8080/"
        },
        "id": "XvzIh45MDGRB",
        "outputId": "76eb59a3-240f-49c5-dcb1-7f54be10920b"
      },
      "source": [
        "# Training the model\n",
        "\n",
        "classifier = KNeighborsClassifier(n_neighbors=5)\n",
        "\n",
        "classifier.fit(X_train, y_train)"
      ],
      "execution_count": 31,
      "outputs": [
        {
          "output_type": "execute_result",
          "data": {
            "text/plain": [
              "KNeighborsClassifier(algorithm='auto', leaf_size=30, metric='minkowski',\n",
              "                     metric_params=None, n_jobs=None, n_neighbors=5, p=2,\n",
              "                     weights='uniform')"
            ]
          },
          "metadata": {
            "tags": []
          },
          "execution_count": 31
        }
      ]
    },
    {
      "cell_type": "code",
      "metadata": {
        "colab": {
          "base_uri": "https://localhost:8080/"
        },
        "id": "ujLnb1pNDNmg",
        "outputId": "1ffe4afe-28bd-4152-9748-4c695ab9d145"
      },
      "source": [
        "# Making predictions\n",
        "\n",
        "y_pred1 = classifier.predict(X_test)\n",
        "\n",
        "# Comparing a sample of the prediction\n",
        "\n",
        "comparison_frame = pd.DataFrame({'Actual': y_test.flatten(), 'Predicted': y_pred1.flatten()})\n",
        "print(comparison_frame.sample(n=5))\n",
        "print(comparison_frame.describe())"
      ],
      "execution_count": 32,
      "outputs": [
        {
          "output_type": "stream",
          "text": [
            "    Actual  Predicted\n",
            "37       1          1\n",
            "11       1          0\n",
            "22       1          1\n",
            "91       0          0\n",
            "60       0          0\n",
            "           Actual   Predicted\n",
            "count  143.000000  143.000000\n",
            "mean     0.426573    0.377622\n",
            "std      0.496318    0.486496\n",
            "min      0.000000    0.000000\n",
            "25%      0.000000    0.000000\n",
            "50%      0.000000    0.000000\n",
            "75%      1.000000    1.000000\n",
            "max      1.000000    1.000000\n"
          ],
          "name": "stdout"
        }
      ]
    },
    {
      "cell_type": "code",
      "metadata": {
        "colab": {
          "base_uri": "https://localhost:8080/"
        },
        "id": "wF_QH9KyDcEP",
        "outputId": "da203a0f-cdc4-4da5-9821-647473ecebbf"
      },
      "source": [
        "# Evaluating the model\n",
        "\n",
        "print(confusion_matrix(y_test, y_pred1))\n",
        "print(classification_report(y_test, y_pred1))"
      ],
      "execution_count": 33,
      "outputs": [
        {
          "output_type": "stream",
          "text": [
            "[[72 10]\n",
            " [17 44]]\n",
            "              precision    recall  f1-score   support\n",
            "\n",
            "           0       0.81      0.88      0.84        82\n",
            "           1       0.81      0.72      0.77        61\n",
            "\n",
            "    accuracy                           0.81       143\n",
            "   macro avg       0.81      0.80      0.80       143\n",
            "weighted avg       0.81      0.81      0.81       143\n",
            "\n"
          ],
          "name": "stdout"
        }
      ]
    },
    {
      "cell_type": "markdown",
      "metadata": {
        "id": "PuhCv5C95yS_"
      },
      "source": [
        "The model has an accuracy score of 81%. The correct number of predictions are 72 true positives and 44 false negatives while the number of incorrect predictions are 10 false positives and 17 false negatives"
      ]
    },
    {
      "cell_type": "markdown",
      "metadata": {
        "id": "5PaOn2l5EwyS"
      },
      "source": [
        "# 70 - 30 Split of the data"
      ]
    },
    {
      "cell_type": "code",
      "metadata": {
        "id": "8As-544KEyZI"
      },
      "source": [
        "# Defining the training and tests sets with 70-30 split\n",
        "\n",
        "X_train, X_test, y_train, y_test = train_test_split(X, y, test_size=0.3, random_state=0)"
      ],
      "execution_count": 34,
      "outputs": []
    },
    {
      "cell_type": "code",
      "metadata": {
        "id": "jdJSmrLJE32_"
      },
      "source": [
        "# Feature Scaling \n",
        "\n",
        "scaler = StandardScaler()\n",
        "scaler.fit(X_train)\n",
        "\n",
        "X_train = scaler.transform(X_train)\n",
        "X_test = scaler.transform(X_test)"
      ],
      "execution_count": 35,
      "outputs": []
    },
    {
      "cell_type": "code",
      "metadata": {
        "colab": {
          "base_uri": "https://localhost:8080/"
        },
        "id": "WAypdQgLE7id",
        "outputId": "eb3f0907-74d5-463b-a3ea-cf9a8fcad0c2"
      },
      "source": [
        "# Training the model\n",
        "\n",
        "classifier = KNeighborsClassifier(n_neighbors=5)\n",
        "\n",
        "classifier.fit(X_train, y_train)"
      ],
      "execution_count": 36,
      "outputs": [
        {
          "output_type": "execute_result",
          "data": {
            "text/plain": [
              "KNeighborsClassifier(algorithm='auto', leaf_size=30, metric='minkowski',\n",
              "                     metric_params=None, n_jobs=None, n_neighbors=5, p=2,\n",
              "                     weights='uniform')"
            ]
          },
          "metadata": {
            "tags": []
          },
          "execution_count": 36
        }
      ]
    },
    {
      "cell_type": "code",
      "metadata": {
        "colab": {
          "base_uri": "https://localhost:8080/"
        },
        "id": "Th-s3oWeFbcC",
        "outputId": "ca5a1607-2d24-4424-ff66-693d5afc87a9"
      },
      "source": [
        "# Making predictions\n",
        "\n",
        "y_pred2 = classifier.predict(X_test)\n",
        "\n",
        "# Comparing a sample of the prediction\n",
        "\n",
        "comparison_frame = pd.DataFrame({'Actual': y_test.flatten(), 'Predicted': y_pred2.flatten()})\n",
        "print(comparison_frame.sample(n=5))\n",
        "print(comparison_frame.describe())"
      ],
      "execution_count": 37,
      "outputs": [
        {
          "output_type": "stream",
          "text": [
            "     Actual  Predicted\n",
            "186       0          0\n",
            "188       0          1\n",
            "10        1          1\n",
            "137       0          0\n",
            "4         0          0\n",
            "           Actual   Predicted\n",
            "count  214.000000  214.000000\n",
            "mean     0.415888    0.397196\n",
            "std      0.494030    0.490465\n",
            "min      0.000000    0.000000\n",
            "25%      0.000000    0.000000\n",
            "50%      0.000000    0.000000\n",
            "75%      1.000000    1.000000\n",
            "max      1.000000    1.000000\n"
          ],
          "name": "stdout"
        }
      ]
    },
    {
      "cell_type": "code",
      "metadata": {
        "colab": {
          "base_uri": "https://localhost:8080/"
        },
        "id": "5SNSe8ctFiEn",
        "outputId": "0d4151a6-1e02-4727-ad2e-d5ac94d3cddd"
      },
      "source": [
        "# Evaluating the model\n",
        "\n",
        "print(confusion_matrix(y_test, y_pred2))\n",
        "print(classification_report(y_test, y_pred2))"
      ],
      "execution_count": 38,
      "outputs": [
        {
          "output_type": "stream",
          "text": [
            "[[101  24]\n",
            " [ 28  61]]\n",
            "              precision    recall  f1-score   support\n",
            "\n",
            "           0       0.78      0.81      0.80       125\n",
            "           1       0.72      0.69      0.70        89\n",
            "\n",
            "    accuracy                           0.76       214\n",
            "   macro avg       0.75      0.75      0.75       214\n",
            "weighted avg       0.76      0.76      0.76       214\n",
            "\n"
          ],
          "name": "stdout"
        }
      ]
    },
    {
      "cell_type": "markdown",
      "metadata": {
        "id": "eK71N0hf6D73"
      },
      "source": [
        "When a 70-30 split of the data is applied, the model has an accuracy score of 76%. The correct number of predictions are 101 true positives and 61 false negatives while the number of incorrect predictions are 24 false positives and 28 false negatives"
      ]
    },
    {
      "cell_type": "markdown",
      "metadata": {
        "id": "V0TVQUwtFnHK"
      },
      "source": [
        "# 60 - 40 Split of the data"
      ]
    },
    {
      "cell_type": "code",
      "metadata": {
        "id": "oA7kM_KmFmTm"
      },
      "source": [
        "# Defining the training and tests sets with 60-40 split\n",
        "\n",
        "X_train, X_test, y_train, y_test = train_test_split(X, y, test_size=0.4, random_state=0)"
      ],
      "execution_count": 39,
      "outputs": []
    },
    {
      "cell_type": "code",
      "metadata": {
        "id": "XTbFKrhnFvR0"
      },
      "source": [
        "# Feature Scaling \n",
        "\n",
        "scaler = StandardScaler()\n",
        "scaler.fit(X_train)\n",
        "\n",
        "X_train = scaler.transform(X_train)\n",
        "X_test = scaler.transform(X_test)"
      ],
      "execution_count": 40,
      "outputs": []
    },
    {
      "cell_type": "code",
      "metadata": {
        "colab": {
          "base_uri": "https://localhost:8080/"
        },
        "id": "hMQf7r_9Fyso",
        "outputId": "36ad510c-0813-4cbc-ffa8-18ab79d2ef0c"
      },
      "source": [
        "# Training the model\n",
        "\n",
        "classifier.fit(X_train, y_train)"
      ],
      "execution_count": 41,
      "outputs": [
        {
          "output_type": "execute_result",
          "data": {
            "text/plain": [
              "KNeighborsClassifier(algorithm='auto', leaf_size=30, metric='minkowski',\n",
              "                     metric_params=None, n_jobs=None, n_neighbors=5, p=2,\n",
              "                     weights='uniform')"
            ]
          },
          "metadata": {
            "tags": []
          },
          "execution_count": 41
        }
      ]
    },
    {
      "cell_type": "code",
      "metadata": {
        "colab": {
          "base_uri": "https://localhost:8080/"
        },
        "id": "EjCHg5-NF2te",
        "outputId": "42641de8-b737-4c74-a9ea-a098e7cfe8d6"
      },
      "source": [
        "# Making predictions\n",
        "\n",
        "y_pred3 = classifier.predict(X_test)\n",
        "\n",
        "# Comparing a sample of the prediction\n",
        "\n",
        "comparison_frame = pd.DataFrame({'Actual': y_test.flatten(), 'Predicted': y_pred3.flatten()})\n",
        "print(comparison_frame.sample(n=5))\n",
        "print(comparison_frame.describe())"
      ],
      "execution_count": 42,
      "outputs": [
        {
          "output_type": "stream",
          "text": [
            "     Actual  Predicted\n",
            "128       0          1\n",
            "180       0          0\n",
            "191       0          1\n",
            "199       1          1\n",
            "84        1          1\n",
            "           Actual   Predicted\n",
            "count  285.000000  285.000000\n",
            "mean     0.407018    0.407018\n",
            "std      0.492142    0.492142\n",
            "min      0.000000    0.000000\n",
            "25%      0.000000    0.000000\n",
            "50%      0.000000    0.000000\n",
            "75%      1.000000    1.000000\n",
            "max      1.000000    1.000000\n"
          ],
          "name": "stdout"
        }
      ]
    },
    {
      "cell_type": "code",
      "metadata": {
        "colab": {
          "base_uri": "https://localhost:8080/"
        },
        "id": "coJjLmTcF8JD",
        "outputId": "eab52b58-5f12-428f-b2e6-60bbe3b0e79d"
      },
      "source": [
        "# Evaluating the model\n",
        "\n",
        "print(confusion_matrix(y_test, y_pred3))\n",
        "print(classification_report(y_test, y_pred3))"
      ],
      "execution_count": 43,
      "outputs": [
        {
          "output_type": "stream",
          "text": [
            "[[140  29]\n",
            " [ 29  87]]\n",
            "              precision    recall  f1-score   support\n",
            "\n",
            "           0       0.83      0.83      0.83       169\n",
            "           1       0.75      0.75      0.75       116\n",
            "\n",
            "    accuracy                           0.80       285\n",
            "   macro avg       0.79      0.79      0.79       285\n",
            "weighted avg       0.80      0.80      0.80       285\n",
            "\n"
          ],
          "name": "stdout"
        }
      ]
    },
    {
      "cell_type": "markdown",
      "metadata": {
        "id": "zHeSEYd56RkS"
      },
      "source": [
        "When a 60-40 training and test sets split, the model has an accuracy score of 80%. The correct number of predictions are 140 true positives and 87 false negatives while the number of incorrect predictions are 29 false positives and 29 false negatives.\n",
        "The model with 80 - 20 split of the dataset performs best with an f1- score accuracy of 81%."
      ]
    },
    {
      "cell_type": "markdown",
      "metadata": {
        "id": "5yZ3pwbHGAHT"
      },
      "source": [
        "# Model Optimization"
      ]
    },
    {
      "cell_type": "markdown",
      "metadata": {
        "id": "v0TjW1M9GEfZ"
      },
      "source": [
        "# LDA\n",
        "\n",
        "\n",
        "\n",
        "\n",
        "Performing dimensionality reduction with Linear Discriminant Analysis (LDA)"
      ]
    },
    {
      "cell_type": "code",
      "metadata": {
        "id": "9chahTa0GB0l"
      },
      "source": [
        "# Defining the training and tests sets with an 80 - 20 split\n",
        "\n",
        "X_train, X_test, y_train, y_test = train_test_split(X, y, test_size=0.2, random_state=0)\n",
        "\n",
        "# Feature Scaling \n",
        "\n",
        "scaler = StandardScaler()\n",
        "scaler.fit(X_train)\n",
        "\n",
        "X_train = scaler.transform(X_train)\n",
        "X_test = scaler.transform(X_test)"
      ],
      "execution_count": 44,
      "outputs": []
    },
    {
      "cell_type": "code",
      "metadata": {
        "colab": {
          "base_uri": "https://localhost:8080/"
        },
        "id": "DoTNsG1sGYN4",
        "outputId": "3003de0c-d933-448c-f47d-b7a90ad603a6"
      },
      "source": [
        "# Peforming LDA\n",
        "\n",
        "lda = LDA(n_components=2)\n",
        "X_train = lda.fit_transform(X_train, y_train)\n",
        "X_test = lda.transform(X_test)"
      ],
      "execution_count": 45,
      "outputs": [
        {
          "output_type": "stream",
          "text": [
            "/usr/local/lib/python3.7/dist-packages/sklearn/discriminant_analysis.py:463: ChangedBehaviorWarning: n_components cannot be larger than min(n_features, n_classes - 1). Using min(n_features, n_classes - 1) = min(8, 2 - 1) = 1 components.\n",
            "  ChangedBehaviorWarning)\n",
            "/usr/local/lib/python3.7/dist-packages/sklearn/discriminant_analysis.py:469: FutureWarning: In version 0.23, setting n_components > min(n_features, n_classes - 1) will raise a ValueError. You should set n_components to None (default), or a value smaller or equal to min(n_features, n_classes - 1).\n",
            "  warnings.warn(future_msg, FutureWarning)\n"
          ],
          "name": "stderr"
        }
      ]
    },
    {
      "cell_type": "code",
      "metadata": {
        "colab": {
          "base_uri": "https://localhost:8080/"
        },
        "id": "hJaTStK4GdaZ",
        "outputId": "9627a0ab-98a3-4370-8473-dd895d4156a6"
      },
      "source": [
        "# Training and Making Predictions\n",
        "\n",
        "classifier = KNeighborsClassifier(n_neighbors=5)\n",
        "\n",
        "classifier.fit(X_train, y_train)\n",
        "\n",
        "y_pred = classifier.predict(X_test)\n",
        "\n",
        "# Comparing a sample of the prediction\n",
        "\n",
        "comparison_frame = pd.DataFrame({'Actual': y_test.flatten(), 'Predicted': y_pred.flatten()})\n",
        "print(comparison_frame.sample(n=5))\n",
        "print(comparison_frame.describe())"
      ],
      "execution_count": 46,
      "outputs": [
        {
          "output_type": "stream",
          "text": [
            "    Actual  Predicted\n",
            "20       0          0\n",
            "47       0          0\n",
            "9        0          1\n",
            "24       0          1\n",
            "48       0          0\n",
            "           Actual   Predicted\n",
            "count  143.000000  143.000000\n",
            "mean     0.426573    0.328671\n",
            "std      0.496318    0.471381\n",
            "min      0.000000    0.000000\n",
            "25%      0.000000    0.000000\n",
            "50%      0.000000    0.000000\n",
            "75%      1.000000    1.000000\n",
            "max      1.000000    1.000000\n"
          ],
          "name": "stdout"
        }
      ]
    },
    {
      "cell_type": "code",
      "metadata": {
        "colab": {
          "base_uri": "https://localhost:8080/"
        },
        "id": "5JgkilPrGiR-",
        "outputId": "f4ae5430-e9d7-4610-ee12-73cab5772f89"
      },
      "source": [
        "# Evaluating the model\n",
        "\n",
        "print(confusion_matrix(y_test, y_pred))\n",
        "print(classification_report(y_test, y_pred))\n",
        "print('Accuracy: ' + str(accuracy_score(y_test, y_pred)))"
      ],
      "execution_count": 47,
      "outputs": [
        {
          "output_type": "stream",
          "text": [
            "[[75  7]\n",
            " [21 40]]\n",
            "              precision    recall  f1-score   support\n",
            "\n",
            "           0       0.78      0.91      0.84        82\n",
            "           1       0.85      0.66      0.74        61\n",
            "\n",
            "    accuracy                           0.80       143\n",
            "   macro avg       0.82      0.79      0.79       143\n",
            "weighted avg       0.81      0.80      0.80       143\n",
            "\n",
            "Accuracy: 0.8041958041958042\n"
          ],
          "name": "stdout"
        }
      ]
    },
    {
      "cell_type": "markdown",
      "metadata": {
        "id": "fuGO5IB36mT7"
      },
      "source": [
        "After applying two features to LDA, the model accuracy does not improve much, it actually goes down"
      ]
    },
    {
      "cell_type": "code",
      "metadata": {
        "colab": {
          "base_uri": "https://localhost:8080/"
        },
        "id": "8KHwwMY7GoG2",
        "outputId": "be42ece6-2533-4461-fb18-01b858f89db7"
      },
      "source": [
        "# Using 4 components of LDA\n",
        "\n",
        "lda = LDA(n_components=4)\n",
        "X_train = lda.fit_transform(X_train, y_train)\n",
        "X_test = lda.transform(X_test)\n",
        "\n",
        "# Training and Making Predictions\n",
        "\n",
        "classifier = KNeighborsClassifier(n_neighbors=5)\n",
        "\n",
        "classifier.fit(X_train, y_train)\n",
        "\n",
        "y_pred = classifier.predict(X_test)\n",
        "\n",
        "# Evaluating the model\n",
        "\n",
        "print(confusion_matrix(y_test, y_pred))\n",
        "print(classification_report(y_test, y_pred))\n",
        "print('Accuracy: ' + str(accuracy_score(y_test, y_pred)))"
      ],
      "execution_count": 48,
      "outputs": [
        {
          "output_type": "stream",
          "text": [
            "[[75  7]\n",
            " [21 40]]\n",
            "              precision    recall  f1-score   support\n",
            "\n",
            "           0       0.78      0.91      0.84        82\n",
            "           1       0.85      0.66      0.74        61\n",
            "\n",
            "    accuracy                           0.80       143\n",
            "   macro avg       0.82      0.79      0.79       143\n",
            "weighted avg       0.81      0.80      0.80       143\n",
            "\n",
            "Accuracy: 0.8041958041958042\n"
          ],
          "name": "stdout"
        },
        {
          "output_type": "stream",
          "text": [
            "/usr/local/lib/python3.7/dist-packages/sklearn/discriminant_analysis.py:463: ChangedBehaviorWarning: n_components cannot be larger than min(n_features, n_classes - 1). Using min(n_features, n_classes - 1) = min(1, 2 - 1) = 1 components.\n",
            "  ChangedBehaviorWarning)\n",
            "/usr/local/lib/python3.7/dist-packages/sklearn/discriminant_analysis.py:469: FutureWarning: In version 0.23, setting n_components > min(n_features, n_classes - 1) will raise a ValueError. You should set n_components to None (default), or a value smaller or equal to min(n_features, n_classes - 1).\n",
            "  warnings.warn(future_msg, FutureWarning)\n"
          ],
          "name": "stderr"
        }
      ]
    },
    {
      "cell_type": "markdown",
      "metadata": {
        "id": "pgZBBL4oZCzp"
      },
      "source": [
        "Adding more features for example 4 features, the model did poorly, this means that the LDA didnot help in improving the model."
      ]
    },
    {
      "cell_type": "markdown",
      "metadata": {
        "id": "_I7NE4UU7qCX"
      },
      "source": [
        "# Cosine Similarity\n",
        "\n",
        "\n",
        "\n",
        "\n",
        "Using cosine similarity as a distance metric to optimize the model"
      ]
    },
    {
      "cell_type": "code",
      "metadata": {
        "id": "H4wIvWWA7q9h"
      },
      "source": [
        "# Defining cosine similarity function\n",
        "\n",
        "def cos_knn(k, X_test, y_test, X_train, y_train):\n",
        "    \n",
        "    # find similarity for every point in test data between every other point in the train data\n",
        "    cosim = cosine_similarity(X_test, X_train)\n",
        "\n",
        "    # get indices of records in the train data that are most similar to any given test data point\n",
        "    top = [(heapq.nlargest((k+1), range(len(i)), i.take)) for i in cosim]\n",
        "\n",
        "    # convert indices to numbers\n",
        "    top = [[y_train[j] for j in i[:k]] for i in top]\n",
        "\n",
        "     # vote, and return prediction for every record in test data\n",
        "    pred = [max(set(i), key=i.count) for i in top]\n",
        "    pred = np.array(pred)\n",
        "    \n",
        "    # print table giving classifier accuracy using target variable in the test data\n",
        "    print(classification_report(y_test, pred))   \n",
        "    "
      ],
      "execution_count": 49,
      "outputs": []
    },
    {
      "cell_type": "code",
      "metadata": {
        "colab": {
          "base_uri": "https://localhost:8080/"
        },
        "id": "LII6EW5v733v",
        "outputId": "b8587479-8589-447f-df72-0203d7dc4640"
      },
      "source": [
        "# Checking model accuracy for a 80-20 dataset split\n",
        "\n",
        "X_train, X_test, y_train, y_test = train_test_split(X, y, test_size=0.2, random_state=0)\n",
        "\n",
        "# Feature Scaling \n",
        "\n",
        "scaler = StandardScaler()\n",
        "scaler.fit(X_train)\n",
        "\n",
        "X_train = scaler.transform(X_train)\n",
        "X_test = scaler.transform(X_test)\n",
        "\n",
        "# Checking the model accuracy\n",
        "cos_knn(5, X_test, y_test, X_train, y_train)"
      ],
      "execution_count": 50,
      "outputs": [
        {
          "output_type": "stream",
          "text": [
            "              precision    recall  f1-score   support\n",
            "\n",
            "           0       0.79      0.85      0.82        82\n",
            "           1       0.78      0.69      0.73        61\n",
            "\n",
            "    accuracy                           0.78       143\n",
            "   macro avg       0.78      0.77      0.77       143\n",
            "weighted avg       0.78      0.78      0.78       143\n",
            "\n"
          ],
          "name": "stdout"
        }
      ]
    },
    {
      "cell_type": "code",
      "metadata": {
        "colab": {
          "base_uri": "https://localhost:8080/"
        },
        "id": "B3FRpm6g79Ej",
        "outputId": "75aa2ff8-5fe1-4840-840a-9a03361a3c2e"
      },
      "source": [
        "# Checking model accuracy for a 70-30 dataset split\n",
        "\n",
        "X_train, X_test, y_train, y_test = train_test_split(X, y, test_size=0.3, random_state=0)\n",
        "\n",
        "# Feature Scaling \n",
        "\n",
        "scaler = StandardScaler()\n",
        "scaler.fit(X_train)\n",
        "\n",
        "X_train = scaler.transform(X_train)\n",
        "X_test = scaler.transform(X_test)\n",
        "\n",
        "# Checking the model accuracy\n",
        "cos_knn(5, X_test, y_test, X_train, y_train)"
      ],
      "execution_count": 51,
      "outputs": [
        {
          "output_type": "stream",
          "text": [
            "              precision    recall  f1-score   support\n",
            "\n",
            "           0       0.77      0.78      0.78       125\n",
            "           1       0.69      0.67      0.68        89\n",
            "\n",
            "    accuracy                           0.74       214\n",
            "   macro avg       0.73      0.73      0.73       214\n",
            "weighted avg       0.74      0.74      0.74       214\n",
            "\n"
          ],
          "name": "stdout"
        }
      ]
    },
    {
      "cell_type": "code",
      "metadata": {
        "colab": {
          "base_uri": "https://localhost:8080/"
        },
        "id": "K3ujBtxC8AjA",
        "outputId": "e10dcc39-46ba-4369-f6e1-147025b7306d"
      },
      "source": [
        "# Checking model accuracy for a 60-40 dataset split\n",
        "\n",
        "X_train, X_test, y_train, y_test = train_test_split(X, y, test_size=0.4, random_state=0)\n",
        "\n",
        "# Feature Scaling \n",
        "\n",
        "scaler = StandardScaler()\n",
        "scaler.fit(X_train)\n",
        "\n",
        "X_train = scaler.transform(X_train)\n",
        "X_test = scaler.transform(X_test)\n",
        "\n",
        "# Checking the model accuracy\n",
        "cos_knn(5, X_test, y_test, X_train, y_train)"
      ],
      "execution_count": 52,
      "outputs": [
        {
          "output_type": "stream",
          "text": [
            "              precision    recall  f1-score   support\n",
            "\n",
            "           0       0.81      0.80      0.80       169\n",
            "           1       0.71      0.72      0.72       116\n",
            "\n",
            "    accuracy                           0.77       285\n",
            "   macro avg       0.76      0.76      0.76       285\n",
            "weighted avg       0.77      0.77      0.77       285\n",
            "\n"
          ],
          "name": "stdout"
        }
      ]
    },
    {
      "cell_type": "markdown",
      "metadata": {
        "id": "vCJHNfXm9qXk"
      },
      "source": [
        "The cosine similarity distance metric has not improved the baseline model any further, therefore the two common optimization method did not help in improving the KNN model. "
      ]
    },
    {
      "cell_type": "markdown",
      "metadata": {
        "id": "xolbCPfK-J8_"
      },
      "source": [
        "#Finding\n",
        "Given the current dataset size, KNN classifier with a K value of 5 and a training-test split of 80-20 provides a relatively high accuracy classification. LDA and cosine similarity distance metric do not improve the model's accuracy.\n",
        "\n",
        "\n",
        "\n",
        "**Following insights where seen from the data**:\n",
        "\n",
        "Male were many compared to females\n",
        "\n",
        "More females survived than males\n",
        "\n",
        "The average age of passengers was ranging 20-25 hence most were youth\n",
        "\n",
        "The first class people paid expensivly compared to the rest and most of them survived ... this could be due the fact that most of the people in first class were grown up and could make decision without panicking during the accident \n",
        "\n",
        "\n",
        "\n",
        "# Recomendation \n",
        "\n",
        "For further optimization, other distance metrics such as Euclidean and Minkowski distance metrics can be explored. In addition, different values of K can be used to check for optimal model performance."
      ]
    }
  ]
}